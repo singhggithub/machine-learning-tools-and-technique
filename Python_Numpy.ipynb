{
  "cells": [
    {
      "cell_type": "markdown",
      "metadata": {
        "id": "view-in-github",
        "colab_type": "text"
      },
      "source": [
        "<a href=\"https://colab.research.google.com/github/singhggithub/machine-learning-tools-and-technique/blob/master/Python_Numpy.ipynb\" target=\"_parent\"><img src=\"https://colab.research.google.com/assets/colab-badge.svg\" alt=\"Open In Colab\"/></a>"
      ]
    },
    {
      "cell_type": "markdown",
      "metadata": {
        "id": "v2E5yMfpBmuj"
      },
      "source": [
        "### NumPy is a module for Python. The name is an acronym for  \"Numerical Python\". It is pronounced NUM-py"
      ]
    },
    {
      "cell_type": "markdown",
      "metadata": {
        "id": "3OKNRkhLBmup"
      },
      "source": [
        "## It is an extension module for Python, mostly written in C. "
      ]
    },
    {
      "cell_type": "markdown",
      "metadata": {
        "id": "dP8Xzjz4Bmuq"
      },
      "source": [
        "### This makes sure that the precompiled mathematical and numerical functions and functionalities of Numpy guarantee great execution speed."
      ]
    },
    {
      "cell_type": "markdown",
      "metadata": {
        "id": "47ph1D2VBmur"
      },
      "source": [
        "### SciPy (Scientific Python) is often mentioned in the same breath with NumPy. SciPy needs Numpy, as it is based on the data structures of Numpy "
      ]
    },
    {
      "cell_type": "markdown",
      "metadata": {
        "id": "ye5yNx3ZBmur"
      },
      "source": [
        "### Both NumPy and SciPy are not part of a basic Python installation. They have to be installed after the Python installation. NumPy has to be installed before installing SciPy.\n",
        "pip install numpy scipy"
      ]
    },
    {
      "cell_type": "markdown",
      "metadata": {
        "id": "vxH0JyGeBmus"
      },
      "source": [
        "# 1.Import NumPy"
      ]
    },
    {
      "cell_type": "code",
      "execution_count": null,
      "metadata": {
        "id": "GdLi7aJjBmut"
      },
      "outputs": [],
      "source": [
        "import numpy"
      ]
    },
    {
      "cell_type": "code",
      "execution_count": null,
      "metadata": {
        "id": "md8cxQYCBmuv",
        "outputId": "9146a38b-ddb0-434e-8eb5-839dd03cc58a"
      },
      "outputs": [
        {
          "name": "stdout",
          "output_type": "stream",
          "text": [
            "[1 2 3 5 4 6]\n",
            "Wall time: 2 ms\n"
          ]
        }
      ],
      "source": [
        "%%time\n",
        "### Create a numpy array\n",
        "arr=numpy.array([1,2,3,5,4,6])\n",
        "print(arr)"
      ]
    },
    {
      "cell_type": "markdown",
      "metadata": {
        "id": "At6q_0mLBmuw"
      },
      "source": [
        "# 2.NumPy as np"
      ]
    },
    {
      "cell_type": "markdown",
      "metadata": {
        "id": "nNpt8dfMBmux"
      },
      "source": [
        "### NumPy is usually imported under the np alias.alias: In Python alias are an alternate name for referring to the same thing."
      ]
    },
    {
      "cell_type": "markdown",
      "metadata": {
        "id": "B-DIGnLaBmuy"
      },
      "source": [
        "Create an alias with the as keyword while importing:"
      ]
    },
    {
      "cell_type": "code",
      "execution_count": null,
      "metadata": {
        "id": "2CEetuYTBmuz",
        "outputId": "beb206e9-4cf2-4771-b351-48fd03c15580"
      },
      "outputs": [
        {
          "name": "stdout",
          "output_type": "stream",
          "text": [
            "[1 2 3]\n"
          ]
        }
      ],
      "source": [
        "### Create a numpy array\n",
        "import numpy as np\n",
        "arr1=np.array((1,2,3))\n",
        "print(arr1)"
      ]
    },
    {
      "cell_type": "markdown",
      "metadata": {
        "id": "GhwF-qIZBmu0"
      },
      "source": [
        "# 3.Checking NumPy Version"
      ]
    },
    {
      "cell_type": "code",
      "execution_count": null,
      "metadata": {
        "id": "aSLuY21iBmu0",
        "outputId": "88f83894-f65f-4ca0-cf99-e7e659102bef"
      },
      "outputs": [
        {
          "name": "stdout",
          "output_type": "stream",
          "text": [
            "1.20.1\n"
          ]
        }
      ],
      "source": [
        "print(np.__version__)  # __version__"
      ]
    },
    {
      "cell_type": "code",
      "execution_count": null,
      "metadata": {
        "id": "178fvM42Bmu0",
        "outputId": "bb482cb6-3427-43cd-d783-93897f9ae7f8"
      },
      "outputs": [
        {
          "data": {
            "text/plain": [
              "numpy.ndarray"
            ]
          },
          "execution_count": 7,
          "metadata": {},
          "output_type": "execute_result"
        }
      ],
      "source": [
        "type(arr)\n",
        "type(arr1)"
      ]
    },
    {
      "cell_type": "code",
      "execution_count": null,
      "metadata": {
        "id": "Ayg4T0k6Bmu1",
        "outputId": "5f40e1a2-f0a9-4617-b22f-2558b494e24d"
      },
      "outputs": [
        {
          "data": {
            "text/plain": [
              "array([1, 2, 3, 4, 5, 6])"
            ]
          },
          "execution_count": 6,
          "metadata": {},
          "output_type": "execute_result"
        }
      ],
      "source": []
    },
    {
      "cell_type": "raw",
      "metadata": {
        "id": "UMYW5zmxBmu1"
      },
      "source": [
        "To create an ndarray, we can pass a list, tuple or any array-like object into the array() method, and it will be converted into an ndarray:"
      ]
    },
    {
      "cell_type": "code",
      "execution_count": null,
      "metadata": {
        "id": "VjoZL0zQBmu1",
        "outputId": "7b279a19-ce5b-4aa8-c810-0d299b5534aa"
      },
      "outputs": [
        {
          "name": "stdout",
          "output_type": "stream",
          "text": [
            "<class 'numpy.ndarray'>\n",
            "[[1 2 3]\n",
            " [4 5 6]]\n",
            "(2, 3)\n",
            "int32\n"
          ]
        }
      ],
      "source": [
        "#create a 2-dimensional array of size 2 x 3, composed of integer elements\n",
        "#homogenious elements-- of same data type\n",
        "arr2=np.array([[1,2,3],[4,5,6]])   #([[],[]])\n",
        "print(type(arr2))\n",
        "print(arr2)\n",
        "print(arr2.shape)\n",
        "print(arr2.dtype)"
      ]
    },
    {
      "cell_type": "code",
      "execution_count": null,
      "metadata": {
        "id": "SYtL-4tVBmu2",
        "outputId": "7a5f4674-3822-4d73-eea4-fe9a099da82c"
      },
      "outputs": [
        {
          "name": "stdout",
          "output_type": "stream",
          "text": [
            "[[1 2 3 4 5 6]\n",
            " [1 2 3 4 5 6]\n",
            " [1 2 3 4 5 6]]\n"
          ]
        }
      ],
      "source": [
        "### create a 3x6 array \n",
        "arr3=np.array([[1,2,3,4,5,6],[1,2,3,4,5,6],[1,2,3,4,5,6]])\n",
        "print(arr3)"
      ]
    },
    {
      "cell_type": "markdown",
      "metadata": {
        "id": "h1wt4UdwBmu2"
      },
      "source": [
        "# 4.Time Comparison between Python Lists and Numpy Arrays"
      ]
    },
    {
      "cell_type": "code",
      "execution_count": null,
      "metadata": {
        "id": "TkqNMH32Bmu2",
        "outputId": "eafc828d-73f8-40e1-da61-8c1559e605dd"
      },
      "outputs": [
        {
          "name": "stdout",
          "output_type": "stream",
          "text": [
            "[     0      1      2 ... 999997 999998 999999]\n"
          ]
        }
      ],
      "source": [
        "#Return evenly spaced values within a given interval. Values are generated within the half-open interval [start, stop)\n",
        "my_arr = np.arange(1000000)\n",
        "my_list = list(range(1000000))\n",
        "print(my_arr)"
      ]
    },
    {
      "cell_type": "code",
      "execution_count": null,
      "metadata": {
        "id": "AKHAuGJcBmu3",
        "outputId": "8cefe0ea-653f-4929-a9d3-23002e364e4d"
      },
      "outputs": [
        {
          "name": "stderr",
          "output_type": "stream",
          "text": [
            "IOPub data rate exceeded.\n",
            "The notebook server will temporarily stop sending output\n",
            "to the client in order to avoid crashing it.\n",
            "To change this limit, set the config variable\n",
            "`--NotebookApp.iopub_data_rate_limit`.\n",
            "\n",
            "Current values:\n",
            "NotebookApp.iopub_data_rate_limit=1000000.0 (bytes/sec)\n",
            "NotebookApp.rate_limit_window=3.0 (secs)\n",
            "\n"
          ]
        }
      ],
      "source": [
        "print(my_list)"
      ]
    },
    {
      "cell_type": "code",
      "execution_count": null,
      "metadata": {
        "id": "qKoPwd1JBmu4",
        "outputId": "0bfabf40-92db-4e05-b7db-6c19a55aac50"
      },
      "outputs": [
        {
          "name": "stdout",
          "output_type": "stream",
          "text": [
            "Wall time: 30.4 ms\n",
            "[      0       2       4 ... 1999994 1999996 1999998]\n"
          ]
        }
      ],
      "source": [
        "%time for _ in range(10): my_arr2 = my_arr * 2\n",
        "print(my_arr2)"
      ]
    },
    {
      "cell_type": "code",
      "execution_count": null,
      "metadata": {
        "id": "_0DPhLEJBmu4",
        "outputId": "e44bf190-38df-4cef-9ecb-92361fe9fdff"
      },
      "outputs": [
        {
          "name": "stdout",
          "output_type": "stream",
          "text": [
            "Wall time: 776 ms\n"
          ]
        }
      ],
      "source": [
        "%time for _ in range(10): my_list2 = [x * 2 for x in my_list]"
      ]
    },
    {
      "cell_type": "markdown",
      "metadata": {
        "id": "k8zMxMKoBmu5"
      },
      "source": [
        "# 5.Dimensions in Arrays"
      ]
    },
    {
      "cell_type": "markdown",
      "metadata": {
        "id": "dp0ihr4kBmu5"
      },
      "source": [
        "# 0-D Arrays"
      ]
    },
    {
      "cell_type": "markdown",
      "metadata": {
        "id": "sZDkEjd-Bmu5"
      },
      "source": [
        "Create a 0-D array with value 42"
      ]
    },
    {
      "cell_type": "code",
      "execution_count": null,
      "metadata": {
        "id": "cyZF25GIBmu5",
        "outputId": "003006a7-afad-49bd-c76f-7a27c8b7b748"
      },
      "outputs": [
        {
          "name": "stdout",
          "output_type": "stream",
          "text": [
            "42\n"
          ]
        }
      ],
      "source": [
        "arr4=np.array(42)\n",
        "print(arr4)"
      ]
    },
    {
      "cell_type": "markdown",
      "metadata": {
        "id": "bSfdCRwJBmu5"
      },
      "source": [
        "# 1-D Arrays"
      ]
    },
    {
      "cell_type": "raw",
      "metadata": {
        "id": "o0LWC8VsBmu6"
      },
      "source": [
        "An array that has 0-D arrays as its elements is called uni-dimensional or 1-D array."
      ]
    },
    {
      "cell_type": "code",
      "execution_count": null,
      "metadata": {
        "id": "oiZUBhbhBmu6",
        "outputId": "4a959abd-5bb0-4636-c5f8-fe8be0709bba"
      },
      "outputs": [
        {
          "name": "stdout",
          "output_type": "stream",
          "text": [
            "[ 1  2 34  5]\n"
          ]
        }
      ],
      "source": [
        "arr5=np.array([1,2,34,5])\n",
        "print(arr5)"
      ]
    },
    {
      "cell_type": "markdown",
      "metadata": {
        "id": "GK-xPLn9Bmu6"
      },
      "source": [
        "# 2-D Arrays"
      ]
    },
    {
      "cell_type": "raw",
      "metadata": {
        "id": "8CYwollBBmu6"
      },
      "source": [
        "An array that has 1-D arrays as its elements is called a 2-D array.\n",
        "\n",
        "These are often used to represent matrix or 2nd order tensors."
      ]
    },
    {
      "cell_type": "raw",
      "metadata": {
        "id": "g3LCVwxSBmu6"
      },
      "source": [
        "NumPy has a whole sub module dedicated towards matrix operations called numpy.mat"
      ]
    },
    {
      "cell_type": "raw",
      "metadata": {
        "id": "g2B3pSSPBmu6"
      },
      "source": [
        "Create a 2-D array containing two arrays with the values 1,2,3 and 4,5,6:"
      ]
    },
    {
      "cell_type": "code",
      "execution_count": null,
      "metadata": {
        "id": "i-Vu7GDdBmu6",
        "outputId": "116ebc80-0b62-42a5-bfbe-1401a40c507d"
      },
      "outputs": [
        {
          "name": "stdout",
          "output_type": "stream",
          "text": [
            "[[1 2 3]\n",
            " [4 5 6]]\n"
          ]
        }
      ],
      "source": [
        "arr6=np.array([[1,2,3],[4,5,6]])\n",
        "print(arr6)"
      ]
    },
    {
      "cell_type": "markdown",
      "metadata": {
        "id": "YLL_hNqMBmu7"
      },
      "source": [
        "# 3-D arrays"
      ]
    },
    {
      "cell_type": "raw",
      "metadata": {
        "id": "1KkwW91BBmu7"
      },
      "source": [
        "An array that has 2-D arrays (matrices) as its elements is called 3-D array.\n",
        "\n",
        "These are often used to represent a 3rd order tensor."
      ]
    },
    {
      "cell_type": "raw",
      "metadata": {
        "id": "jDnvtpXRBmu7"
      },
      "source": [
        "Create a 3-D array with two 2-D arrays, both containing two arrays with the values 1,2,3 and 4,5,6:"
      ]
    },
    {
      "cell_type": "code",
      "execution_count": null,
      "metadata": {
        "id": "Aq2XJcjhBmu7",
        "outputId": "031abf8b-0758-4a82-cb4f-1ec7d9c66d79"
      },
      "outputs": [
        {
          "name": "stdout",
          "output_type": "stream",
          "text": [
            "[[[1 2 3]\n",
            "  [4 5 6]]\n",
            "\n",
            " [[1 1 1]\n",
            "  [2 3 2]]]\n"
          ]
        }
      ],
      "source": [
        "import numpy as np\n",
        "y=np.array([[[1,2,3],[4,5,6]],[[1,1,1],[2,3,2]]])\n",
        "print(y)"
      ]
    },
    {
      "cell_type": "markdown",
      "metadata": {
        "id": "DU2h2Y1wBmu7"
      },
      "source": [
        "# 5.Check Number of Dimensions?"
      ]
    },
    {
      "cell_type": "raw",
      "metadata": {
        "id": "PubvoHjsBmu7"
      },
      "source": [
        "NumPy Arrays provides the ndim attribute that returns an integer that tells us how many dimensions the array have."
      ]
    },
    {
      "cell_type": "markdown",
      "metadata": {
        "id": "cYlE3FxVBmu8"
      },
      "source": [
        "Check how many dimensions the arrays have:"
      ]
    },
    {
      "cell_type": "code",
      "execution_count": null,
      "metadata": {
        "id": "qYe9VTSwBmu8",
        "outputId": "ad2e8917-cc5e-4c38-fbbb-1c79d49fa9a5"
      },
      "outputs": [
        {
          "name": "stdout",
          "output_type": "stream",
          "text": [
            "0\n",
            "1\n",
            "2\n",
            "3\n"
          ]
        }
      ],
      "source": [
        "import numpy as np\n",
        "\n",
        "a = np.array(42)\n",
        "b = np.array([1, 2, 3, 4, 5])\n",
        "c = np.array([[1, 2, 3], [4, 5, 6]])\n",
        "d = np.array([[[1, 2, 3], [4, 5, 6]], [[1, 2, 3], [4, 5, 6]]])\n",
        "\n",
        "print(a.ndim)\n",
        "print(b.ndim)\n",
        "print(c.ndim)\n",
        "print(d.ndim)"
      ]
    },
    {
      "cell_type": "code",
      "execution_count": null,
      "metadata": {
        "id": "mFEAKGoDBmu8"
      },
      "outputs": [],
      "source": [
        "import numpy as np\n",
        "a = np.array([1,2,3,4,5,6])\n",
        "a = a.reshape(3,2)\n",
        "a\n",
        "a = a.reshape(2,-1) ## -1--> unknown dimension\n",
        "a\n",
        "a = a.ravel()\n",
        "a"
      ]
    },
    {
      "cell_type": "markdown",
      "metadata": {
        "id": "1IOkzLjvBmu8"
      },
      "source": [
        "# 6.linspace"
      ]
    },
    {
      "cell_type": "code",
      "execution_count": null,
      "metadata": {
        "id": "FboeErPABmu8"
      },
      "outputs": [],
      "source": [
        "#numpy.linspace(start, stop,num = 50, endpoint = True, retstep = False, dtype = None)\n",
        "-> start  : [optional] start of interval range. By default start = 0\n",
        "-> stop   : end of interval range\n",
        "-> restep : If True, return (samples, step). By deflut restep = False\n",
        "-> num    : [int, optional] No. of samples to generate\n",
        "-> dtype  : type of output array"
      ]
    },
    {
      "cell_type": "code",
      "execution_count": null,
      "metadata": {
        "id": "cjKYp-oFBmu9",
        "outputId": "fa196c67-5e67-4026-8786-2ba0ea7c299d"
      },
      "outputs": [
        {
          "name": "stdout",
          "output_type": "stream",
          "text": [
            "[ 1.          1.18367347  1.36734694  1.55102041  1.73469388  1.91836735\n",
            "  2.10204082  2.28571429  2.46938776  2.65306122  2.83673469  3.02040816\n",
            "  3.20408163  3.3877551   3.57142857  3.75510204  3.93877551  4.12244898\n",
            "  4.30612245  4.48979592  4.67346939  4.85714286  5.04081633  5.2244898\n",
            "  5.40816327  5.59183673  5.7755102   5.95918367  6.14285714  6.32653061\n",
            "  6.51020408  6.69387755  6.87755102  7.06122449  7.24489796  7.42857143\n",
            "  7.6122449   7.79591837  7.97959184  8.16326531  8.34693878  8.53061224\n",
            "  8.71428571  8.89795918  9.08163265  9.26530612  9.44897959  9.63265306\n",
            "  9.81632653 10.        ]\n"
          ]
        }
      ],
      "source": [
        "import numpy as np\n",
        "# 50 values between 1 and 10:\n",
        "print(np.linspace(1,10,num = 50))"
      ]
    },
    {
      "cell_type": "code",
      "execution_count": null,
      "metadata": {
        "id": "Keqz3CMbBmu9",
        "outputId": "c146cc48-eaed-47a2-bd7c-9b8c88cde5ae"
      },
      "outputs": [
        {
          "name": "stdout",
          "output_type": "stream",
          "text": [
            "[1.         2.28571429 3.57142857 4.85714286 6.14285714 7.42857143\n",
            " 8.71428571]\n"
          ]
        }
      ],
      "source": [
        "# 7 values between 1 and 10:\n",
        "print(np.linspace(1,10,num = 7,endpoint = False))"
      ]
    },
    {
      "cell_type": "code",
      "execution_count": null,
      "metadata": {
        "id": "ewJJsWSwBmu9",
        "outputId": "2a6bf35f-9cff-4c1b-87f9-644781732e16"
      },
      "outputs": [
        {
          "name": "stdout",
          "output_type": "stream",
          "text": [
            "[[11 12 13 14 15]\n",
            " [21 22 23 24 25]\n",
            " [31 32 33 34 35]\n",
            " [41 42 43 44 45]\n",
            " [51 52 53 54 55]]\n"
          ]
        }
      ],
      "source": [
        "A = np.array([\n",
        "[11, 12, 13, 14, 15],\n",
        "[21, 22, 23, 24, 25],\n",
        "[31, 32, 33, 34, 35],\n",
        "[41, 42, 43, 44, 45],\n",
        "[51, 52, 53, 54, 55]])\n",
        "print(A)\n"
      ]
    },
    {
      "cell_type": "code",
      "execution_count": null,
      "metadata": {
        "id": "MQEzcRrnBmu9",
        "outputId": "c3e5a17b-6eff-4751-a45d-74eda9b3a953"
      },
      "outputs": [
        {
          "name": "stdout",
          "output_type": "stream",
          "text": [
            "[[23 24 25]\n",
            " [33 34 35]]\n"
          ]
        }
      ],
      "source": [
        "print(A[1:3, 2:])  #(row, column)### 3 not included"
      ]
    },
    {
      "cell_type": "markdown",
      "metadata": {
        "id": "bf6e9JLmBmu-"
      },
      "source": [
        "![image.png](attachment:image.png)"
      ]
    },
    {
      "cell_type": "code",
      "execution_count": null,
      "metadata": {
        "id": "YUr7oAOlBmu-",
        "outputId": "3d1d319b-1ea4-4053-c9dd-dc3fb83255e6"
      },
      "outputs": [
        {
          "name": "stdout",
          "output_type": "stream",
          "text": [
            "[[13 14 15]\n",
            " [23 24 25]\n",
            " [33 34 35]]\n"
          ]
        }
      ],
      "source": [
        "# print the above representation\n",
        "print(A[:3, 2:])"
      ]
    },
    {
      "cell_type": "code",
      "execution_count": null,
      "metadata": {
        "id": "00sYJiF-Bmu-",
        "outputId": "0aeb6390-fd63-41f5-c76c-6a5028b98fd6"
      },
      "outputs": [
        {
          "name": "stdout",
          "output_type": "stream",
          "text": [
            "[[41 42 43 44 45]\n",
            " [51 52 53 54 55]]\n"
          ]
        }
      ],
      "source": [
        "print(A[3:, :])"
      ]
    },
    {
      "cell_type": "markdown",
      "metadata": {
        "id": "_A9EMa3PBmu-"
      },
      "source": [
        "![image.png](attachment:image.png)"
      ]
    },
    {
      "cell_type": "code",
      "execution_count": null,
      "metadata": {
        "id": "1kRano1sBmu-",
        "outputId": "2af9b4fe-a637-424e-9a87-efa814ff6093"
      },
      "outputs": [
        {
          "name": "stdout",
          "output_type": "stream",
          "text": [
            "[[11 12]\n",
            " [21 22]\n",
            " [31 32]\n",
            " [41 42]\n",
            " [51 52]]\n"
          ]
        }
      ],
      "source": [
        "print(A[:, :2])"
      ]
    },
    {
      "cell_type": "code",
      "execution_count": null,
      "metadata": {
        "id": "Q9r1pJ2HBmu_",
        "outputId": "84168d82-ab13-4c92-b99b-40190b633f3d"
      },
      "outputs": [
        {
          "name": "stdout",
          "output_type": "stream",
          "text": [
            "[[13 14]\n",
            " [23 24]\n",
            " [33 34]\n",
            " [43 44]\n",
            " [53 54]]\n"
          ]
        }
      ],
      "source": [
        "print(A[:, 2:4])"
      ]
    },
    {
      "cell_type": "code",
      "execution_count": null,
      "metadata": {
        "id": "zQLNySFQBmu_",
        "outputId": "b3aaca11-567b-4079-c9f1-5528bfd06aab"
      },
      "outputs": [
        {
          "name": "stdout",
          "output_type": "stream",
          "text": [
            "[[ 0  1  2  3  4  5  6]\n",
            " [ 7  8  9 10 11 12 13]\n",
            " [14 15 16 17 18 19 20]\n",
            " [21 22 23 24 25 26 27]]\n",
            "[ 0  1  2  3  4  5  6  7  8  9 10 11 12 13 14 15 16 17 18 19 20 21 22 23\n",
            " 24 25 26 27]\n"
          ]
        }
      ],
      "source": [
        "y= np.arange(28)\n",
        "X = np.arange(28).reshape(4,7)\n",
        "print(X)\n",
        "print(y)"
      ]
    },
    {
      "cell_type": "code",
      "execution_count": null,
      "metadata": {
        "id": "10-RxoZNBmu_",
        "outputId": "26b1c029-097c-49e0-e3a9-c871dd93b13e"
      },
      "outputs": [
        {
          "name": "stdout",
          "output_type": "stream",
          "text": [
            "[[ 0  3  6]\n",
            " [14 17 20]]\n"
          ]
        }
      ],
      "source": [
        "print(X[::2, ::3])"
      ]
    },
    {
      "cell_type": "markdown",
      "metadata": {
        "id": "0nxev070Bmu_"
      },
      "source": [
        "![image.png](attachment:image.png)"
      ]
    },
    {
      "cell_type": "code",
      "execution_count": null,
      "metadata": {
        "id": "pE4TNpiVBmu_",
        "outputId": "28c212f4-bfff-4c09-cc64-82c7d052c64a"
      },
      "outputs": [
        {
          "name": "stdout",
          "output_type": "stream",
          "text": [
            "[[11 13]\n",
            " [21 23]\n",
            " [31 33]\n",
            " [41 43]\n",
            " [51 53]]\n"
          ]
        }
      ],
      "source": [
        "print(A[:, :3:2])"
      ]
    },
    {
      "cell_type": "code",
      "execution_count": null,
      "metadata": {
        "id": "VRnQ_2CfBmu_",
        "outputId": "6920f80a-509b-4b6a-c6a4-81082f654a2c"
      },
      "outputs": [
        {
          "name": "stdout",
          "output_type": "stream",
          "text": [
            "[[11 13 15]\n",
            " [21 23 25]\n",
            " [31 33 35]\n",
            " [41 43 45]\n",
            " [51 53 55]]\n"
          ]
        }
      ],
      "source": [
        "print(A[:, ::2])"
      ]
    },
    {
      "cell_type": "markdown",
      "metadata": {
        "id": "lIZpx1cZBmvA"
      },
      "source": [
        "# Creating Arrays with Ones, Zeros and Empty"
      ]
    },
    {
      "cell_type": "code",
      "execution_count": null,
      "metadata": {
        "id": "-2Po1wLtBmvA",
        "outputId": "3a5064b8-d8ba-4f23-834a-8e2dab75f846"
      },
      "outputs": [
        {
          "name": "stdout",
          "output_type": "stream",
          "text": [
            "[[1. 1. 1.]\n",
            " [1. 1. 1.]]\n"
          ]
        }
      ],
      "source": [
        "# 2x3 array of all 1s\n",
        "z= np.ones((2,3))\n",
        "print(z)"
      ]
    },
    {
      "cell_type": "code",
      "execution_count": null,
      "metadata": {
        "id": "ZBa_zxm_BmvA",
        "outputId": "6a578f53-4021-4023-c7a3-de0c796b5e02"
      },
      "outputs": [
        {
          "name": "stdout",
          "output_type": "stream",
          "text": [
            "[[1 1 1]\n",
            " [1 1 1]]\n"
          ]
        }
      ],
      "source": [
        "z1= np.ones((2,3),dtype=int)\n",
        "print(z1)"
      ]
    },
    {
      "cell_type": "code",
      "execution_count": null,
      "metadata": {
        "id": "KFe4RJbFBmvA",
        "outputId": "44d53f6d-5028-4a99-8cd0-30652366cf2f"
      },
      "outputs": [
        {
          "name": "stdout",
          "output_type": "stream",
          "text": [
            "[[0 0 0]\n",
            " [0 0 0]]\n"
          ]
        }
      ],
      "source": [
        "z2= np.zeros((2,3),dtype=int)\n",
        "print(z2)"
      ]
    },
    {
      "cell_type": "code",
      "execution_count": null,
      "metadata": {
        "id": "OZ9IWWQxBmvA",
        "outputId": "400b13d2-0fe5-42b9-f172-45c03fc55b12"
      },
      "outputs": [
        {
          "name": "stdout",
          "output_type": "stream",
          "text": [
            "[[1. 1. 1.]\n",
            " [1. 1. 1.]]\n"
          ]
        }
      ],
      "source": [
        "z3= np.empty((2,3))\n",
        "print(z3)"
      ]
    },
    {
      "cell_type": "markdown",
      "metadata": {
        "id": "o5mfxjcuBmvA"
      },
      "source": [
        "# Copying Arrays"
      ]
    },
    {
      "cell_type": "code",
      "execution_count": null,
      "metadata": {
        "id": "n40cLPLmBmvB"
      },
      "outputs": [],
      "source": [
        "Y=z2"
      ]
    },
    {
      "cell_type": "code",
      "execution_count": null,
      "metadata": {
        "id": "or1juUU0BmvB",
        "outputId": "2f1282d6-d866-4682-e1af-84651c6ce2bf"
      },
      "outputs": [
        {
          "data": {
            "text/plain": [
              "array([[1., 1., 1.],\n",
              "       [1., 1., 1.]])"
            ]
          },
          "execution_count": 27,
          "metadata": {},
          "output_type": "execute_result"
        }
      ],
      "source": [
        "Y"
      ]
    },
    {
      "cell_type": "code",
      "execution_count": null,
      "metadata": {
        "id": "8cUkaDJ8BmvB",
        "outputId": "99005069-6ba3-46ea-f53c-ff01d03f7034"
      },
      "outputs": [
        {
          "ename": "NameError",
          "evalue": "name 'Z' is not defined",
          "output_type": "error",
          "traceback": [
            "\u001b[1;31m---------------------------------------------------------------------------\u001b[0m",
            "\u001b[1;31mNameError\u001b[0m                                 Traceback (most recent call last)",
            "\u001b[1;32m<ipython-input-25-cc08b11d6cdf>\u001b[0m in \u001b[0;36m<module>\u001b[1;34m\u001b[0m\n\u001b[1;32m----> 1\u001b[1;33m \u001b[0mZ\u001b[0m\u001b[1;33m[\u001b[0m\u001b[1;36m1\u001b[0m\u001b[1;33m,\u001b[0m\u001b[1;36m1\u001b[0m\u001b[1;33m]\u001b[0m\u001b[1;33m=\u001b[0m\u001b[1;36m3\u001b[0m\u001b[1;33m\u001b[0m\u001b[1;33m\u001b[0m\u001b[0m\n\u001b[0m",
            "\u001b[1;31mNameError\u001b[0m: name 'Z' is not defined"
          ]
        }
      ],
      "source": [
        "Z[1,1]=3\n"
      ]
    },
    {
      "cell_type": "code",
      "execution_count": null,
      "metadata": {
        "id": "3XmpJ9feBmvB",
        "outputId": "c3e41846-e017-4729-9e7e-6ea8c443543d"
      },
      "outputs": [
        {
          "data": {
            "text/plain": [
              "array([[0., 0., 0., 0.],\n",
              "       [0., 3., 0., 0.]])"
            ]
          },
          "execution_count": 41,
          "metadata": {},
          "output_type": "execute_result"
        }
      ],
      "source": [
        "Z"
      ]
    },
    {
      "cell_type": "code",
      "execution_count": null,
      "metadata": {
        "id": "ovCcaM1QBmvB",
        "outputId": "f95ad48d-262b-434d-b235-73b24ba92e25"
      },
      "outputs": [
        {
          "data": {
            "text/plain": [
              "array([[0., 0., 0., 0.],\n",
              "       [0., 3., 0., 0.]])"
            ]
          },
          "execution_count": 42,
          "metadata": {},
          "output_type": "execute_result"
        }
      ],
      "source": [
        "Y"
      ]
    },
    {
      "cell_type": "markdown",
      "metadata": {
        "id": "tAmza5H9BmvB"
      },
      "source": [
        "# numpy.copy()"
      ]
    },
    {
      "cell_type": "code",
      "execution_count": null,
      "metadata": {
        "id": "Io3LovEeBmvB",
        "outputId": "6fa55c70-2e7c-42a8-f22b-e0b7a9bbc9f8"
      },
      "outputs": [
        {
          "name": "stdout",
          "output_type": "stream",
          "text": [
            "[[11 12 13 14 15]\n",
            " [21 22 23 24 25]\n",
            " [31 32 33 34 35]\n",
            " [41 42 43 44 45]\n",
            " [51 52 53 54 55]]\n"
          ]
        }
      ],
      "source": [
        "A = np.array([\n",
        "[11, 12, 13, 14, 15],\n",
        "[21, 22, 23, 24, 25],\n",
        "[31, 32, 33, 34, 35],\n",
        "[41, 42, 43, 44, 45],\n",
        "[51, 52, 53, 54, 55]])\n",
        "print(A)"
      ]
    },
    {
      "cell_type": "code",
      "execution_count": null,
      "metadata": {
        "id": "fazMPzySBmvC",
        "outputId": "822d105d-641d-4ad1-cdc7-4ea23bf53234"
      },
      "outputs": [
        {
          "name": "stdout",
          "output_type": "stream",
          "text": [
            "[[11 12 13 14 15]\n",
            " [21 22 23 24 25]\n",
            " [31 32 33 34 35]\n",
            " [41 42 43 44 45]\n",
            " [51 52 53 54 55]]\n"
          ]
        }
      ],
      "source": [
        "e=A\n",
        "print(e)"
      ]
    },
    {
      "cell_type": "code",
      "execution_count": null,
      "metadata": {
        "id": "OeF0RsTDBmvC",
        "outputId": "03c18da4-0f0a-46ed-df8f-f72d366709e4"
      },
      "outputs": [
        {
          "name": "stdout",
          "output_type": "stream",
          "text": [
            "[[ 2 12 13 14 15]\n",
            " [21 22 23 24 25]\n",
            " [31 32 33 34 35]\n",
            " [41 42 43 44 45]\n",
            " [51 52 53 54 55]]\n"
          ]
        }
      ],
      "source": [
        "print(e)"
      ]
    },
    {
      "cell_type": "code",
      "execution_count": null,
      "metadata": {
        "id": "XAiSAmCEBmvC"
      },
      "outputs": [],
      "source": [
        "w=A.copy()"
      ]
    },
    {
      "cell_type": "code",
      "execution_count": null,
      "metadata": {
        "id": "-97_XY-dBmvC",
        "outputId": "c9939bd5-9d0a-43cc-bf01-f87a338a48d2"
      },
      "outputs": [
        {
          "name": "stdout",
          "output_type": "stream",
          "text": [
            "[[11 12 13 14 15]\n",
            " [21 22 23 24 25]\n",
            " [31 32 33 34 35]\n",
            " [41 42 43 44 45]\n",
            " [51 52 53 54 55]]\n"
          ]
        }
      ],
      "source": [
        "print(w)"
      ]
    },
    {
      "cell_type": "code",
      "execution_count": null,
      "metadata": {
        "id": "zKgthXfBBmvC"
      },
      "outputs": [],
      "source": [
        "A[0,0]=2"
      ]
    },
    {
      "cell_type": "code",
      "execution_count": null,
      "metadata": {
        "id": "C0u0XYYrBmvC",
        "outputId": "60866a36-be6e-4ad8-ae0b-d2b4334ea72f"
      },
      "outputs": [
        {
          "name": "stdout",
          "output_type": "stream",
          "text": [
            "[[11 12 13 14 15]\n",
            " [21 22 23 24 25]\n",
            " [31 32 33 34 35]\n",
            " [41 42 43 44 45]\n",
            " [51 52 53 54 55]]\n"
          ]
        }
      ],
      "source": [
        "print(w)"
      ]
    },
    {
      "cell_type": "markdown",
      "metadata": {
        "id": "gupn2QfcBmvD"
      },
      "source": [
        "# The identity Matrix"
      ]
    },
    {
      "cell_type": "code",
      "execution_count": null,
      "metadata": {
        "id": "3KRgSQMHBmvD",
        "outputId": "316b8135-f095-462a-f709-8c69564636c7"
      },
      "outputs": [
        {
          "data": {
            "text/plain": [
              "array([[1., 0., 0., 0.],\n",
              "       [0., 1., 0., 0.],\n",
              "       [0., 0., 1., 0.],\n",
              "       [0., 0., 0., 1.]])"
            ]
          },
          "execution_count": 37,
          "metadata": {},
          "output_type": "execute_result"
        }
      ],
      "source": [
        "import numpy as np\n",
        "np.identity(4)"
      ]
    },
    {
      "cell_type": "code",
      "execution_count": null,
      "metadata": {
        "id": "W33YxWOLBmvD",
        "outputId": "549987b5-94a2-4c26-92ed-25aaa01d3a21"
      },
      "outputs": [
        {
          "data": {
            "text/plain": [
              "array([[1, 0, 0, 0],\n",
              "       [0, 1, 0, 0],\n",
              "       [0, 0, 1, 0],\n",
              "       [0, 0, 0, 1]])"
            ]
          },
          "execution_count": 38,
          "metadata": {},
          "output_type": "execute_result"
        }
      ],
      "source": [
        "np.identity(4, dtype=int)"
      ]
    },
    {
      "cell_type": "code",
      "execution_count": null,
      "metadata": {
        "id": "oaqpxeQMBmvD",
        "outputId": "bece05e4-e8e1-4929-a77d-9eb0835742c6"
      },
      "outputs": [
        {
          "data": {
            "text/plain": [
              "array([[1, 0, 0],\n",
              "       [0, 1, 0],\n",
              "       [0, 0, 1]])"
            ]
          },
          "execution_count": 40,
          "metadata": {},
          "output_type": "execute_result"
        }
      ],
      "source": [
        "import numpy\n",
        "numpy.eye(3, dtype=int)"
      ]
    },
    {
      "cell_type": "code",
      "execution_count": null,
      "metadata": {
        "id": "P6Dp-UfkBmvD",
        "outputId": "77a54adf-927e-43b4-9e54-70685a01a215"
      },
      "outputs": [
        {
          "data": {
            "text/plain": [
              "array([[0, 0, 0, 0],\n",
              "       [1, 0, 0, 0],\n",
              "       [0, 1, 0, 0]])"
            ]
          },
          "execution_count": 42,
          "metadata": {},
          "output_type": "execute_result"
        }
      ],
      "source": [
        "np.eye(3,4,-1, dtype=int)"
      ]
    },
    {
      "cell_type": "markdown",
      "metadata": {
        "id": "hO3J4JV9BmvE"
      },
      "source": [
        "# Graphical Representation of the Values"
      ]
    },
    {
      "cell_type": "code",
      "execution_count": null,
      "metadata": {
        "id": "y1cSRAsKBmvE"
      },
      "outputs": [],
      "source": [
        "cvalues = [20.1, 20.8, 21.9, 22.5, 22.7, 22.3, 21.8, 21.2, 20.9, 20.1]"
      ]
    },
    {
      "cell_type": "code",
      "execution_count": null,
      "metadata": {
        "id": "BN3094tgBmvE",
        "outputId": "f7e91bbb-c316-440f-aee6-dfe354f0f4bd"
      },
      "outputs": [
        {
          "name": "stdout",
          "output_type": "stream",
          "text": [
            "[20.1 20.8 21.9 22.5 22.7 22.3 21.8 21.2 20.9 20.1]\n"
          ]
        }
      ],
      "source": [
        "C = np.array(cvalues)\n",
        "print(C)"
      ]
    },
    {
      "cell_type": "code",
      "execution_count": null,
      "metadata": {
        "id": "Wrcqu1e2BmvE",
        "outputId": "4ffe033f-d600-4e13-8412-1bd6340b0344"
      },
      "outputs": [
        {
          "data": {
            "text/plain": [
              "[<matplotlib.lines.Line2D at 0x1f585e8c588>]"
            ]
          },
          "execution_count": 48,
          "metadata": {},
          "output_type": "execute_result"
        },
        {
          "data": {
            "image/png": "[encoded data removed]",
            "text/plain": [
              "<Figure size 432x288 with 1 Axes>"
            ]
          },
          "metadata": {
            "needs_background": "light"
          },
          "output_type": "display_data"
        }
      ],
      "source": [
        "import matplotlib.pyplot as ks\n",
        "ks.plot(C)"
      ]
    },
    {
      "cell_type": "code",
      "execution_count": null,
      "metadata": {
        "id": "fB05dJxXBmvE",
        "outputId": "f2b9b287-13db-4fdd-ed4a-c8d0a4cb745e"
      },
      "outputs": [
        {
          "data": {
            "text/plain": [
              "array([[4, 0, 0],\n",
              "       [0, 5, 0],\n",
              "       [0, 0, 6]])"
            ]
          },
          "execution_count": 49,
          "metadata": {},
          "output_type": "execute_result"
        }
      ],
      "source": [
        "# diag` extracts a diagonal or constructs a diagonal array.\n",
        "d=([4,5,6])\n",
        "np.diag(d)"
      ]
    },
    {
      "cell_type": "code",
      "execution_count": null,
      "metadata": {
        "id": "Prpf95XLBmvE",
        "outputId": "26912a62-1e46-43c4-c119-38070c770497"
      },
      "outputs": [
        {
          "name": "stdout",
          "output_type": "stream",
          "text": [
            "[ 0  2  4  6  8 10 12 14 16 18 20 22 24 26 28]\n",
            "[[ 0  2  4]\n",
            " [ 6  8 10]\n",
            " [12 14 16]\n",
            " [18 20 22]\n",
            " [24 26 28]]\n"
          ]
        }
      ],
      "source": [
        "n = np.arange(0, 30, 2) # start at 0 count up by 2, stop before 30\n",
        "print(n)\n",
        "n = n.reshape(5, 3) # reshape array to be 3x5\n",
        "print(n)"
      ]
    },
    {
      "cell_type": "code",
      "execution_count": null,
      "metadata": {
        "id": "9i5t7wR4BmvF",
        "outputId": "82bed316-05bd-4457-ea30-5a6d023115da"
      },
      "outputs": [
        {
          "data": {
            "text/plain": [
              "array([1, 2, 3, 1, 2, 3, 1, 2, 3])"
            ]
          },
          "execution_count": 52,
          "metadata": {},
          "output_type": "execute_result"
        }
      ],
      "source": [
        "# Create an array using repeating list\n",
        "np.array([1, 2, 3] * 3)"
      ]
    },
    {
      "cell_type": "code",
      "execution_count": null,
      "metadata": {
        "id": "VrBrdKM4BmvF",
        "outputId": "2cc5e497-98b0-4815-8772-d1d4626dd2dd"
      },
      "outputs": [
        {
          "data": {
            "text/plain": [
              "array([1, 2, 3, 1, 2, 3, 1, 2, 3])"
            ]
          },
          "execution_count": 53,
          "metadata": {},
          "output_type": "execute_result"
        }
      ],
      "source": [
        "np.tile([1, 2, 3], 3)"
      ]
    },
    {
      "cell_type": "code",
      "execution_count": null,
      "metadata": {
        "id": "fC8-TV6EBmvF",
        "outputId": "eb4a083a-12d3-4311-83c1-b9c7020111a3"
      },
      "outputs": [
        {
          "data": {
            "text/plain": [
              "array([1, 1, 1, 2, 2, 2, 3, 3, 3])"
            ]
          },
          "execution_count": 54,
          "metadata": {},
          "output_type": "execute_result"
        }
      ],
      "source": [
        "np.repeat([1, 2, 3], 3)"
      ]
    },
    {
      "cell_type": "markdown",
      "metadata": {
        "id": "LbRyTj4qBmvF"
      },
      "source": [
        "# Operations\n",
        "Use +, -, *, / and ** to perform element wise addition, subtraction, multiplication, division and power."
      ]
    },
    {
      "cell_type": "code",
      "execution_count": null,
      "metadata": {
        "id": "ixYHSLihBmvF",
        "outputId": "9fc135da-22c8-4ca4-9dc0-65bfed61a3e9"
      },
      "outputs": [
        {
          "name": "stdout",
          "output_type": "stream",
          "text": [
            "[1 2 3]\n",
            "[4 5 6]\n"
          ]
        }
      ],
      "source": [
        "mylist = [1, 2, 3]\n",
        "x = np.array(mylist)\n",
        "print(x)\n",
        "y = np.array([4, 5, 6])\n",
        "print(y)"
      ]
    },
    {
      "cell_type": "code",
      "execution_count": null,
      "metadata": {
        "id": "GStswmmvBmvF",
        "outputId": "43dd5ea9-f787-473d-f6a5-fe44453f1efb"
      },
      "outputs": [
        {
          "name": "stdout",
          "output_type": "stream",
          "text": [
            "[5 7 9]\n",
            "[-3 -3 -3]\n",
            "[[2 3 4]\n",
            " [5 6 7]]\n"
          ]
        }
      ],
      "source": [
        "print(x + y) # elementwise addition     [1 2 3] + [4 5 6] = [5  7  9]\n",
        "print(x - y) # elementwise subtraction  [1 2 3] - [4 5 6] = [-3 -3 -3]\n",
        "x1 = np.array([[1,2,3],[3,4,5]])\n",
        "y1 = np.array([[1,1,1], [2,2,2]])\n",
        "print(x1+y1)"
      ]
    },
    {
      "cell_type": "code",
      "execution_count": null,
      "metadata": {
        "id": "QiwQsCx0BmvG",
        "outputId": "6a925242-4752-4a2e-ea24-b390da6f1fa4"
      },
      "outputs": [
        {
          "name": "stdout",
          "output_type": "stream",
          "text": [
            "[ 4 10 18]\n",
            "[0.25 0.4  0.5 ]\n"
          ]
        }
      ],
      "source": [
        "print(x * y) # elementwise multiplication  [1 2 3] * [4 5 6] = [4  10  18]\n",
        "print(x / y) # elementwise divison    [1 2 3] / [4 5 6] = [0.25  0.4  0.5]"
      ]
    },
    {
      "cell_type": "code",
      "execution_count": null,
      "metadata": {
        "id": "H-REjBVFBmvG",
        "outputId": "778791c6-da2a-4ee9-ac2a-d228da14b222"
      },
      "outputs": [
        {
          "name": "stdout",
          "output_type": "stream",
          "text": [
            "[1 4 9]\n"
          ]
        }
      ],
      "source": [
        "print(x**2) # elementwise power  [1 2 3] ^2 =  [1 4 9]"
      ]
    },
    {
      "cell_type": "markdown",
      "metadata": {
        "id": "zKh1FXEKBmvG"
      },
      "source": [
        "<br>\n",
        "**Dot Product:**  \n",
        "\n",
        "$ \\begin{bmatrix}x_1 \\ x_2 \\ x_3\\end{bmatrix}\n",
        "\\cdot\n",
        "\\begin{bmatrix}y_1 \\\\ y_2 \\\\ y_3\\end{bmatrix}\n",
        "= x_1 y_1 + x_2 y_2 + x_3 y_3$"
      ]
    },
    {
      "cell_type": "code",
      "execution_count": null,
      "metadata": {
        "id": "sp3E6o4MBmvG",
        "outputId": "f4816c0b-05bd-4bb3-9364-75ba28bb882a"
      },
      "outputs": [
        {
          "data": {
            "text/plain": [
              "32"
            ]
          },
          "execution_count": 123,
          "metadata": {},
          "output_type": "execute_result"
        }
      ],
      "source": [
        "x.dot(y) # dot product  1*4 + 2*5 + 3*6"
      ]
    },
    {
      "cell_type": "code",
      "execution_count": null,
      "metadata": {
        "id": "AdwjdWKzBmvG",
        "outputId": "0e7362ed-04ec-43f6-8970-da837e59d087"
      },
      "outputs": [
        {
          "data": {
            "text/plain": [
              "array([[14, 14, 14],\n",
              "       [32, 32, 32],\n",
              "       [50, 50, 50]])"
            ]
          },
          "execution_count": 124,
          "metadata": {},
          "output_type": "execute_result"
        }
      ],
      "source": [
        "x1=np.array([[1,2,3],[4,5,6],[7,8,9]])\n",
        "y1=np.array([[1,1,1],[2,2,2],[3,3,3]])\n",
        "\n",
        "np.dot(x1,y1)"
      ]
    },
    {
      "cell_type": "code",
      "execution_count": null,
      "metadata": {
        "id": "ANGj_BvpBmvG",
        "outputId": "0e1719bb-51a5-4874-c67e-a1d0bba9fadb"
      },
      "outputs": [
        {
          "name": "stdout",
          "output_type": "stream",
          "text": [
            "[[1 2]\n",
            " [4 5]\n",
            " [7 8]]\n",
            "[[1 1 1]\n",
            " [1 1 1]]\n",
            "[[ 3  3  3]\n",
            " [ 9  9  9]\n",
            " [15 15 15]]\n"
          ]
        }
      ],
      "source": [
        "a= np.array([[1,2],[4,5],[7,8]])\n",
        "b=np.array([[1,1,1],[1,1,1]])\n",
        "print(a)\n",
        "print(b)\n",
        "print(a.dot(b))"
      ]
    },
    {
      "cell_type": "code",
      "execution_count": null,
      "metadata": {
        "id": "A-FW8-NfBmvH",
        "outputId": "dcc77c96-d404-4ddd-874d-3b8b06ebcbac"
      },
      "outputs": [
        {
          "name": "stdout",
          "output_type": "stream",
          "text": [
            "[[ 4  5  6]\n",
            " [16 25 36]]\n",
            "[[ 4 16]\n",
            " [ 5 25]\n",
            " [ 6 36]]\n"
          ]
        },
        {
          "data": {
            "text/plain": [
              "array([[ 4, 16],\n",
              "       [ 5, 25],\n",
              "       [ 6, 36]])"
            ]
          },
          "execution_count": 126,
          "metadata": {},
          "output_type": "execute_result"
        }
      ],
      "source": [
        "# Use `.T` to get the transpose.\n",
        "z = np.array([y, y**2])\n",
        "print(z)\n",
        "print(z.T)\n",
        "z.transpose()"
      ]
    },
    {
      "cell_type": "code",
      "execution_count": null,
      "metadata": {
        "id": "HGexlY8bBmvH",
        "outputId": "fb4916b3-13b8-4596-b6bf-efaf08f84184"
      },
      "outputs": [
        {
          "data": {
            "text/plain": [
              "dtype('int32')"
            ]
          },
          "execution_count": 127,
          "metadata": {},
          "output_type": "execute_result"
        }
      ],
      "source": [
        "# Use `.dtype` to see the data type of the elements in the array.\n",
        "z.dtype"
      ]
    },
    {
      "cell_type": "code",
      "execution_count": null,
      "metadata": {
        "id": "MS5MElpgBmvH"
      },
      "outputs": [],
      "source": [
        "a = np.array([-4, -2, 1, 3, 5,7,9,11,-4,1,4,1])"
      ]
    },
    {
      "cell_type": "code",
      "execution_count": null,
      "metadata": {
        "id": "HOM6aOh9BmvH",
        "outputId": "d8d718d5-43c3-4d53-edaa-d06936eae2b7"
      },
      "outputs": [
        {
          "data": {
            "text/plain": [
              "32"
            ]
          },
          "execution_count": 61,
          "metadata": {},
          "output_type": "execute_result"
        }
      ],
      "source": [
        "a.sum()"
      ]
    },
    {
      "cell_type": "code",
      "execution_count": null,
      "metadata": {
        "id": "Q8nwciGPBmvH",
        "outputId": "faa72474-a844-4858-c516-ec1608a3d55d"
      },
      "outputs": [
        {
          "name": "stdout",
          "output_type": "stream",
          "text": [
            "11\n",
            "7\n"
          ]
        }
      ],
      "source": [
        "print(a.max())\n",
        "print(a.argmax())    # index of max"
      ]
    },
    {
      "cell_type": "code",
      "execution_count": null,
      "metadata": {
        "id": "vZya8VCIBmvI",
        "outputId": "6d777c30-d356-4cf7-899e-ce4ce3cde5fd"
      },
      "outputs": [
        {
          "name": "stdout",
          "output_type": "stream",
          "text": [
            "-4\n",
            "0\n"
          ]
        }
      ],
      "source": [
        "print(a.min())\n",
        "print(a.argmin())           # index of min"
      ]
    },
    {
      "cell_type": "code",
      "execution_count": null,
      "metadata": {
        "id": "iRiF3TsjBmvI",
        "outputId": "7f58e8c8-2aaa-4d44-c8d9-192e1e6bf5f9"
      },
      "outputs": [
        {
          "data": {
            "text/plain": [
              "2.6666666666666665"
            ]
          },
          "execution_count": 134,
          "metadata": {},
          "output_type": "execute_result"
        }
      ],
      "source": [
        "a.mean()"
      ]
    },
    {
      "cell_type": "code",
      "execution_count": null,
      "metadata": {
        "id": "jb6AltQTBmvK",
        "outputId": "00fe5caa-de7d-452c-ea49-20c6cc6e2601"
      },
      "outputs": [
        {
          "data": {
            "text/plain": [
              "4.606758320361751"
            ]
          },
          "execution_count": 135,
          "metadata": {},
          "output_type": "execute_result"
        }
      ],
      "source": [
        "a.std()"
      ]
    },
    {
      "cell_type": "code",
      "execution_count": null,
      "metadata": {
        "id": "g1PIb5LDBmvK",
        "outputId": "da2ef74c-eb9e-49f4-b09d-d4c596b48634"
      },
      "outputs": [
        {
          "data": {
            "text/plain": [
              "21.222222222222218"
            ]
          },
          "execution_count": 136,
          "metadata": {},
          "output_type": "execute_result"
        }
      ],
      "source": [
        "a.var()"
      ]
    },
    {
      "cell_type": "code",
      "execution_count": null,
      "metadata": {
        "id": "fKBy1CBSBmvK",
        "outputId": "05368a8c-5e6d-4fd7-90f2-0a30d0f8cfd2"
      },
      "outputs": [
        {
          "data": {
            "text/plain": [
              "ModeResult(mode=array([1]), count=array([3]))"
            ]
          },
          "execution_count": 137,
          "metadata": {},
          "output_type": "execute_result"
        }
      ],
      "source": [
        "from scipy import stats\n",
        "mode = stats. mode(a)\n",
        "mode"
      ]
    },
    {
      "cell_type": "code",
      "execution_count": null,
      "metadata": {
        "id": "udTiFKTgBmvK",
        "outputId": "64e90217-d3e4-41e4-bb7b-3adf17161175"
      },
      "outputs": [
        {
          "name": "stdout",
          "output_type": "stream",
          "text": [
            "X : \n",
            " [-1.1215806   5.07655248 -6.24410961 ... -0.86354701 -2.70943058\n",
            "  0.80812043]\n",
            "\n",
            "Skewness for data :  -0.00711616935949247\n",
            "\n",
            "Skewness for data :  1.4999764450713198\n",
            "\n",
            "Skewness for data :  -1.4602742654480885\n",
            "\n",
            "Skewness for data :  0.0\n"
          ]
        }
      ],
      "source": [
        "from scipy.stats import skew \n",
        "import numpy as np  \n",
        "  \n",
        "# random values based on a normal distribution \n",
        "x = np.random.normal(0, 2, 10000) \n",
        "y = np.array([1, 2, 3, 4, 1000])\n",
        "z = np.array([1, 899, 900, 910, 1000])\n",
        "w = np.array([1, 2, 3, 4,5])              # uniform distribution\n",
        "print (\"X : \\n\", x) \n",
        "  \n",
        "print('\\nSkewness for data : ', skew(x))\n",
        "print('\\nSkewness for data : ', skew(y))\n",
        "print('\\nSkewness for data : ', skew(z))\n",
        "print('\\nSkewness for data : ', skew(w))"
      ]
    },
    {
      "cell_type": "code",
      "execution_count": null,
      "metadata": {
        "id": "jlqL4FlMBmvL",
        "outputId": "e0febe57-80a8-429b-b367-d1dc43ee8dcb"
      },
      "outputs": [
        {
          "name": "stdout",
          "output_type": "stream",
          "text": [
            "Size of array:4\n",
            "Element:1\n",
            "Element:2\n",
            "Element:3\n",
            "Element:4\n",
            "[1 2 3 4]\n"
          ]
        }
      ],
      "source": [
        "import numpy\n",
        "my_array = []\n",
        "a = int(input(\"Size of array:\"))\n",
        "for i in range(a):\n",
        "    my_array.append(int(input(\"Element:\")))\n",
        "my_array = numpy.array(my_array)\n",
        "print(my_array)"
      ]
    },
    {
      "cell_type": "code",
      "execution_count": null,
      "metadata": {
        "id": "SfItz7UMBmvL",
        "outputId": "ea40d10a-3035-4760-e7b2-b88cae0f3801"
      },
      "outputs": [
        {
          "name": "stdout",
          "output_type": "stream",
          "text": [
            "Enter the matrix size3\n",
            "[[0. 0. 0.]\n",
            " [0. 0. 0.]\n",
            " [0. 0. 0.]]\n",
            "1 2 3\n",
            "4 5 6\n",
            "7 8 9\n",
            "[[1. 2. 3.]\n",
            " [4. 5. 6.]\n",
            " [7. 8. 9.]]\n"
          ]
        }
      ],
      "source": [
        "#Take matrix size as input\n",
        "n=int(input(\"Enter the matrix size\"))\n",
        "\n",
        "import numpy as np\n",
        "\n",
        "#initialise nxn matrix with zeroes\n",
        "mat=np.zeros((n,n))\n",
        "print(mat)\n",
        "\n",
        "#input each row at a time,with each element separated by a space\n",
        "for i in range(n):\n",
        "   mat[i]=input().split(\" \")\n",
        "print(mat)"
      ]
    },
    {
      "cell_type": "code",
      "execution_count": null,
      "metadata": {
        "id": "N36EG7HlBmvL"
      },
      "outputs": [],
      "source": [
        "Randomly generate the marks of the 80 students in the range of 40 to 95. Write a NumPy \n",
        "program to compute the 70 percentile for all elements in a given array. (Hint: use \n",
        "np.random.randint (start, stop, no_of_items) for list generation) (Hint: Use np.percentile)"
      ]
    },
    {
      "cell_type": "code",
      "execution_count": null,
      "metadata": {
        "id": "L19ggVH4BmvL",
        "outputId": "a52528c4-3ff4-4ced-c8ec-20876465e91e"
      },
      "outputs": [
        {
          "name": "stdout",
          "output_type": "stream",
          "text": [
            "[45 80 53 47 61 88 46 84 61 56 67 74 74 90 71 41 77 45 91 45 91 60 47 42\n",
            " 74 94 51 62 70 53 42 88 50 71 79 87 56 55 43 59 94 48 89 68 66 57 71 80\n",
            " 70 46 49 68 50 77 58 70 51 41 45 58 45 52 61 67 62 70 76 69 66 56 75 54\n",
            " 60 77 83 51 87 79 59 47]\n"
          ]
        }
      ],
      "source": [
        "import numpy as np\n",
        "arr=np.random.randint (40, 96, 80)\n",
        "print(arr)"
      ]
    },
    {
      "cell_type": "code",
      "execution_count": null,
      "metadata": {
        "id": "Hcnr6asRBmvM"
      },
      "outputs": [],
      "source": []
    }
  ],
  "metadata": {
    "kernelspec": {
      "display_name": "Python 3",
      "language": "python",
      "name": "python3"
    },
    "language_info": {
      "codemirror_mode": {
        "name": "ipython",
        "version": 3
      },
      "file_extension": ".py",
      "mimetype": "text/x-python",
      "name": "python",
      "nbconvert_exporter": "python",
      "pygments_lexer": "ipython3",
      "version": "3.7.4"
    },
    "colab": {
      "provenance": [],
      "include_colab_link": true
    }
  },
  "nbformat": 4,
  "nbformat_minor": 0
}