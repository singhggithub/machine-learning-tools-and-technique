{
  "nbformat": 4,
  "nbformat_minor": 0,
  "metadata": {
    "colab": {
      "provenance": [],
      "collapsed_sections": [],
      "authorship_tag": "ABX9TyPYmeKvQK/LMd68hOGVvGP+",
      "include_colab_link": true
    },
    "kernelspec": {
      "name": "python3",
      "display_name": "Python 3"
    },
    "language_info": {
      "name": "python"
    }
  },
  "cells": [
    {
      "cell_type": "markdown",
      "metadata": {
        "id": "view-in-github",
        "colab_type": "text"
      },
      "source": [
        "<a href=\"https://colab.research.google.com/github/singhggithub/machine-learning-tools-and-technique/blob/master/ML_TA1_part2.ipynb\" target=\"_parent\"><img src=\"https://colab.research.google.com/assets/colab-badge.svg\" alt=\"Open In Colab\"/></a>"
      ]
    },
    {
      "cell_type": "code",
      "execution_count": null,
      "metadata": {
        "id": "m5Z-pyuvOCKg"
      },
      "outputs": [],
      "source": [
        "import pandas as pd\n",
        "import numpy as np\n",
        "df = pd.read_csv (r\"C:\\Users\\Gaura\\Downloads\\mlTask2.csv\")\n",
        "print (df)"
      ]
    },
    {
      "cell_type": "code",
      "source": [
        "df.isnull().sum()"
      ],
      "metadata": {
        "id": "JhT7Cm3kOsDL"
      },
      "execution_count": null,
      "outputs": []
    },
    {
      "cell_type": "code",
      "source": [
        "missing_col = ['firstSet']\n",
        "#Technique 1: Using mean to impute the missing values\n",
        "for i in missing_col:\n",
        "df.loc[df.loc[:,i].isnull(),i]=df.loc[:,i].mean()"
      ],
      "metadata": {
        "id": "kHnufnj3Oz-7"
      },
      "execution_count": null,
      "outputs": []
    },
    {
      "cell_type": "code",
      "source": [
        "df"
      ],
      "metadata": {
        "id": "qyqNfPQqO3kT"
      },
      "execution_count": null,
      "outputs": []
    },
    {
      "cell_type": "code",
      "source": [
        "from sklearn.pipeline import Pipeline\n",
        "from sklearn.feature_extraction.text import TfidfVectorizer\n",
        "from sklearn.naive_bayes import MultinomialNB"
      ],
      "metadata": {
        "id": "mDcCNo_AO9qn"
      },
      "execution_count": null,
      "outputs": []
    },
    {
      "cell_type": "code",
      "source": [
        "import numpy as np, pandas as pd\n",
        "import seaborn as sns\n",
        "import matplotlib.pyplot as plt\n",
        "from sklearn.datasets import fetch_20newsgroups\n",
        "from sklearn.feature_extraction.text import TfidfVectorizer\n",
        "from sklearn.naive_bayes import MultinomialNB\n",
        "from sklearn.pipeline import make_pipeline\n",
        "from sklearn.metrics import confusion_matrix, accuracy_score\n",
        "sns.set() # use seaborn plotting style"
      ],
      "metadata": {
        "id": "A11j97JbQRm4"
      },
      "execution_count": null,
      "outputs": []
    },
    {
      "cell_type": "code",
      "source": [
        "# Load the dataset\n",
        "data = fetch_20newsgroups()\n",
        "# Get the text categories\n",
        "text_categories = data.target_names\n",
        "# define the training set\n",
        "train_data = fetch_20newsgroups(subset=\"train\", categories=text_categories)\n",
        "# define the test set\n",
        "test_data = fetch_20newsgroups(subset=\"test\", categories=text_categories)"
      ],
      "metadata": {
        "id": "BwX93rygQWHH"
      },
      "execution_count": null,
      "outputs": []
    },
    {
      "cell_type": "code",
      "source": [
        "print(\"We have {} unique classes\".format(len(text_categories))) print(\"We have {} training samples\".format(len(train_data.data)))\n",
        "print(\"We have {} test samples\".format(len(test_data.data)))"
      ],
      "metadata": {
        "id": "nDYf8qRPQZPW"
      },
      "execution_count": null,
      "outputs": []
    },
    {
      "cell_type": "code",
      "source": [
        "# let’s have a look as some training data\n",
        "print(test_data.data[5])"
      ],
      "metadata": {
        "id": "k23ckB0wQeBi"
      },
      "execution_count": null,
      "outputs": []
    },
    {
      "cell_type": "code",
      "source": [
        "# Build the model\n",
        "model = make_pipeline(TfidfVectorizer(), MultinomialNB())\n",
        "# Train the model using the training data\n",
        "model.fit(train_data.data, train_data.target)\n",
        "# Predict the categories of the test data\n",
        "predicted_categories = model.predict(test_data.data)"
      ],
      "metadata": {
        "id": "V_JABM-YQo0P"
      },
      "execution_count": null,
      "outputs": []
    },
    {
      "cell_type": "code",
      "source": [
        "print(np.array(test_data.target_names)[predicted_categories])"
      ],
      "metadata": {
        "id": "Iwq8_OuDQrda"
      },
      "execution_count": null,
      "outputs": []
    },
    {
      "cell_type": "code",
      "source": [
        "# plot the confusion matrix\n",
        "mat = confusion_matrix(test_data.target, predicted_categories)\n",
        "sns.heatmap(mat.T, square = True, annot=True, fmt = \"d\", xticklabels=train_data.targplt.xlabel(\"true labels\")\n",
        "plt.ylabel(\"predicted label\")\n",
        "plt.show()\n",
        "print(\"The accuracy is {}\".format(accuracy_score(test_data.target, predicted_categor"
      ],
      "metadata": {
        "id": "iGkB1CxCQuOE"
      },
      "execution_count": null,
      "outputs": []
    },
    {
      "cell_type": "code",
      "source": [
        "def my_predictions(my_sentence, model):\n",
        "all_categories_names = np.array(data.target_names)\n",
        "prediction = model.predict([my_sentence])\n",
        "return all_categories_names[prediction]\n",
        "my_sentence =\"Policies of privatisation should be considered as responses to severalprint(my_predictions(my_sentence, model))"
      ],
      "metadata": {
        "id": "2ocddUarQyA_"
      },
      "execution_count": null,
      "outputs": []
    },
    {
      "cell_type": "code",
      "source": [
        "import pandas as pd\n",
        "import numpy as np\n",
        "import matplotlib.pyplot as plt\n",
        "from sklearn import datasets"
      ],
      "metadata": {
        "id": "oKjtjFUBQ1cR"
      },
      "execution_count": null,
      "outputs": []
    },
    {
      "cell_type": "code",
      "source": [
        "iris = datasets.load_iris()"
      ],
      "metadata": {
        "id": "1RRavj4gQ8Pp"
      },
      "execution_count": null,
      "outputs": []
    },
    {
      "cell_type": "code",
      "source": [
        "df = pd.DataFrame({\n",
        "'x': iris.data[:,0],\n",
        "'y': iris.data[:,1],\n",
        "'cluster' : iris.target\n",
        "})"
      ],
      "metadata": {
        "id": "PdA3f3CHQ85t"
      },
      "execution_count": null,
      "outputs": []
    },
    {
      "cell_type": "code",
      "source": [
        "df"
      ],
      "metadata": {
        "id": "wZQzeZZQQ_Qo"
      },
      "execution_count": null,
      "outputs": []
    },
    {
      "cell_type": "code",
      "source": [
        "centroids = {}\n",
        "for i in range(3):\n",
        "result_list = []\n",
        "result_list.append(df.loc[df['cluster'] == i]['x'].mean())\n",
        "result_list.append(df.loc[df['cluster'] == i]['y'].mean())\n",
        "centroids[i] = result_list"
      ],
      "metadata": {
        "id": "RlVtxliKRDHL"
      },
      "execution_count": null,
      "outputs": []
    },
    {
      "cell_type": "code",
      "source": [
        "centroids"
      ],
      "metadata": {
        "id": "gwYIUK1BRDwl"
      },
      "execution_count": null,
      "outputs": []
    },
    {
      "cell_type": "code",
      "source": [
        "colmap = {0: 'r', 1: 'g', 2: 'b'}"
      ],
      "metadata": {
        "id": "RRGXSrWlRGJ8"
      },
      "execution_count": null,
      "outputs": []
    },
    {
      "cell_type": "code",
      "source": [
        "def assignment(df, centroids):\n",
        "for i in range(3):\n",
        "# sqrt((x1 - x2)^2 + (y1 - y2)^2)\n",
        "df['distance_from_{}'.format(i)] = (\n",
        "np.sqrt(\n",
        "(df['x'] - centroids[i][0]) ** 2\n",
        "+ (df['y'] - centroids[i][1]) ** 2\n",
        ")\n",
        ")\n",
        "centroid_distance_cols = ['distance_from_{}'.format(i) for i in centroids.keys()\n",
        "df['closest'] = df.loc[:, centroid_distance_cols].idxmin(axis=1)df['closest'] = df['closest'].map(lambda x: int(x.lstrip('distance_from_')))\n",
        "df['color'] = df['closest'].map(lambda x: colmap[x])\n",
        "return df"
      ],
      "metadata": {
        "id": "C68tcLprRIFU"
      },
      "execution_count": null,
      "outputs": []
    },
    {
      "cell_type": "code",
      "source": [
        "df = assignment(df, centroids)"
      ],
      "metadata": {
        "id": "4SwrVAXRRKoC"
      },
      "execution_count": null,
      "outputs": []
    },
    {
      "cell_type": "code",
      "source": [
        "df"
      ],
      "metadata": {
        "id": "bZY6MMBTRNKh"
      },
      "execution_count": null,
      "outputs": []
    }
  ]
}