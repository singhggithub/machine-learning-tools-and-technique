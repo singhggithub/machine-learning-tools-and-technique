{
  "cells": [
    {
      "cell_type": "markdown",
      "metadata": {
        "id": "view-in-github",
        "colab_type": "text"
      },
      "source": [
        "<a href=\"https://colab.research.google.com/github/singhggithub/machine-learning-tools-and-technique/blob/master/Copy_of_Python_Numpy.ipynb\" target=\"_parent\"><img src=\"https://colab.research.google.com/assets/colab-badge.svg\" alt=\"Open In Colab\"/></a>"
      ]
    },
    {
      "cell_type": "markdown",
      "metadata": {
        "id": "rk2TaCcZEcbm"
      },
      "source": [
        "### NumPy is a module for Python. The name is an acronym for  \"Numerical Python\". It is pronounced NUM-py"
      ]
    },
    {
      "cell_type": "markdown",
      "metadata": {
        "id": "xk37LqpqEcbq"
      },
      "source": [
        "## It is an extension module for Python, mostly written in C. "
      ]
    },
    {
      "cell_type": "markdown",
      "metadata": {
        "id": "URmccfbZEcbs"
      },
      "source": [
        "### This makes sure that the precompiled mathematical and numerical functions and functionalities of Numpy guarantee great execution speed."
      ]
    },
    {
      "cell_type": "markdown",
      "metadata": {
        "id": "IccWPd7uEcbt"
      },
      "source": [
        "### SciPy (Scientific Python) is often mentioned in the same breath with NumPy. SciPy needs Numpy, as it is based on the data structures of Numpy "
      ]
    },
    {
      "cell_type": "markdown",
      "metadata": {
        "id": "Ku1asKJLEcbu"
      },
      "source": [
        "### Both NumPy and SciPy are not part of a basic Python installation. They have to be installed after the Python installation. NumPy has to be installed before installing SciPy.\n",
        "pip install numpy scipy"
      ]
    },
    {
      "cell_type": "markdown",
      "metadata": {
        "id": "re-Yr1QGEcbv"
      },
      "source": [
        "# 1.Import NumPy"
      ]
    },
    {
      "cell_type": "code",
      "execution_count": 18,
      "metadata": {
        "id": "y6svNaOGEcbw"
      },
      "outputs": [],
      "source": [
        "import numpy"
      ]
    },
    {
      "cell_type": "code",
      "execution_count": 19,
      "metadata": {
        "id": "M28uyDrGEcby",
        "outputId": "b760ba3a-5ece-4a8c-8166-3b16cc93687d",
        "colab": {
          "base_uri": "https://localhost:8080/"
        }
      },
      "outputs": [
        {
          "output_type": "stream",
          "name": "stdout",
          "text": [
            "[1 2 3 5 4 6]\n",
            "CPU times: user 339 µs, sys: 0 ns, total: 339 µs\n",
            "Wall time: 307 µs\n"
          ]
        }
      ],
      "source": [
        "%%time\n",
        "### Create a numpy array\n",
        "arr=numpy.array([1,2,3,5,4,6])\n",
        "print(arr)"
      ]
    },
    {
      "cell_type": "markdown",
      "metadata": {
        "id": "FWByfy2wEcb0"
      },
      "source": [
        "# 2.NumPy as np"
      ]
    },
    {
      "cell_type": "markdown",
      "metadata": {
        "id": "z2PSim10Ecb1"
      },
      "source": [
        "### NumPy is usually imported under the np alias.alias: In Python alias are an alternate name for referring to the same thing."
      ]
    },
    {
      "cell_type": "markdown",
      "metadata": {
        "id": "MEQoOr9nEcb1"
      },
      "source": [
        "Create an alias with the as keyword while importing:"
      ]
    },
    {
      "cell_type": "code",
      "execution_count": 20,
      "metadata": {
        "id": "KPe7AqXSEcb2",
        "outputId": "31bf8d74-005d-4d19-d7ee-47e35b53c2cc",
        "colab": {
          "base_uri": "https://localhost:8080/"
        }
      },
      "outputs": [
        {
          "output_type": "stream",
          "name": "stdout",
          "text": [
            "[1 2 3]\n"
          ]
        }
      ],
      "source": [
        "### Create a numpy array\n",
        "import numpy as np\n",
        "arr1=np.array((1,2,3))\n",
        "print(arr1)"
      ]
    },
    {
      "cell_type": "markdown",
      "metadata": {
        "id": "KxfkO8D3Ecb2"
      },
      "source": [
        "# 3.Checking NumPy Version"
      ]
    },
    {
      "cell_type": "code",
      "execution_count": 21,
      "metadata": {
        "id": "-TLCaDPNEcb3",
        "outputId": "c8476825-b298-4873-cbb1-77f0c150a936",
        "colab": {
          "base_uri": "https://localhost:8080/"
        }
      },
      "outputs": [
        {
          "output_type": "stream",
          "name": "stdout",
          "text": [
            "1.21.6\n"
          ]
        }
      ],
      "source": [
        "print(np.__version__)  # __version__"
      ]
    },
    {
      "cell_type": "code",
      "execution_count": 22,
      "metadata": {
        "id": "sjrFAZ_kEcb3",
        "outputId": "b1a08578-5bae-4b7d-e509-2d5c53bdf89e",
        "colab": {
          "base_uri": "https://localhost:8080/"
        }
      },
      "outputs": [
        {
          "output_type": "execute_result",
          "data": {
            "text/plain": [
              "numpy.ndarray"
            ]
          },
          "metadata": {},
          "execution_count": 22
        }
      ],
      "source": [
        "type(arr)\n",
        "type(arr1)"
      ]
    },
    {
      "cell_type": "code",
      "execution_count": 22,
      "metadata": {
        "id": "IjbyEP_rEcb4"
      },
      "outputs": [],
      "source": []
    },
    {
      "cell_type": "raw",
      "metadata": {
        "id": "tGE2Bih4Ecb4"
      },
      "source": [
        "To create an ndarray, we can pass a list, tuple or any array-like object into the array() method, and it will be converted into an ndarray:"
      ]
    },
    {
      "cell_type": "code",
      "execution_count": 23,
      "metadata": {
        "id": "anGNKDFKEcb5",
        "outputId": "2d849736-4c42-42f9-cf8b-8b930952dc3f",
        "colab": {
          "base_uri": "https://localhost:8080/"
        }
      },
      "outputs": [
        {
          "output_type": "stream",
          "name": "stdout",
          "text": [
            "<class 'numpy.ndarray'>\n",
            "[[1 2 3]\n",
            " [4 5 6]]\n",
            "(2, 3)\n",
            "int64\n"
          ]
        }
      ],
      "source": [
        "#create a 2-dimensional array of size 2 x 3, composed of integer elements\n",
        "#homogenious elements-- of same data type\n",
        "arr2=np.array([[1,2,3],[4,5,6]])   #([[],[]])\n",
        "print(type(arr2))\n",
        "print(arr2)\n",
        "print(arr2.shape)\n",
        "print(arr2.dtype)"
      ]
    },
    {
      "cell_type": "code",
      "execution_count": 24,
      "metadata": {
        "id": "BNNiRDlnEcb5",
        "outputId": "0003f78a-a867-42b0-c164-4aeba04c8391",
        "colab": {
          "base_uri": "https://localhost:8080/"
        }
      },
      "outputs": [
        {
          "output_type": "stream",
          "name": "stdout",
          "text": [
            "[[1 2 3 4 5 6]\n",
            " [1 2 3 4 5 6]\n",
            " [1 2 3 4 5 6]]\n"
          ]
        }
      ],
      "source": [
        "### create a 3x6 array \n",
        "arr3=np.array([[1,2,3,4,5,6],[1,2,3,4,5,6],[1,2,3,4,5,6]])\n",
        "print(arr3)"
      ]
    },
    {
      "cell_type": "markdown",
      "metadata": {
        "id": "gz_I6EpCEcb6"
      },
      "source": [
        "# 4.Time Comparison between Python Lists and Numpy Arrays"
      ]
    },
    {
      "cell_type": "code",
      "execution_count": 25,
      "metadata": {
        "id": "Ad1qSkJxEcb6",
        "outputId": "aa60a116-bb4c-4ab5-aa0e-9b4df2e91cc1",
        "colab": {
          "base_uri": "https://localhost:8080/"
        }
      },
      "outputs": [
        {
          "output_type": "stream",
          "name": "stdout",
          "text": [
            "[     0      1      2 ... 999997 999998 999999]\n"
          ]
        }
      ],
      "source": [
        "#Return evenly spaced values within a given interval. Values are generated within the half-open interval [start, stop)\n",
        "my_arr = np.arange(1000000)\n",
        "my_list = list(range(1000000))\n",
        "print(my_arr)"
      ]
    },
    {
      "cell_type": "code",
      "execution_count": 26,
      "metadata": {
        "id": "Eiof1XFvEcb7",
        "outputId": "892166da-0952-42e6-d3b7-4e60680f6015",
        "colab": {
          "base_uri": "https://localhost:8080/"
        }
      },
      "outputs": [
        {
          "output_type": "stream",
          "name": "stderr",
          "text": [
            "IOPub data rate exceeded.\n",
            "The notebook server will temporarily stop sending output\n",
            "to the client in order to avoid crashing it.\n",
            "To change this limit, set the config variable\n",
            "`--NotebookApp.iopub_data_rate_limit`.\n",
            "\n",
            "Current values:\n",
            "NotebookApp.iopub_data_rate_limit=1000000.0 (bytes/sec)\n",
            "NotebookApp.rate_limit_window=3.0 (secs)\n",
            "\n"
          ]
        }
      ],
      "source": [
        "print(my_list)"
      ]
    },
    {
      "cell_type": "code",
      "execution_count": 27,
      "metadata": {
        "id": "sdUDFQa2Ecb7",
        "outputId": "daa11271-6aa6-4f04-8169-c1c3cff38bb2",
        "colab": {
          "base_uri": "https://localhost:8080/"
        }
      },
      "outputs": [
        {
          "output_type": "stream",
          "name": "stdout",
          "text": [
            "CPU times: user 11.3 ms, sys: 1.85 ms, total: 13.1 ms\n",
            "Wall time: 12.8 ms\n",
            "[      0       2       4 ... 1999994 1999996 1999998]\n"
          ]
        }
      ],
      "source": [
        "%time for _ in range(10): my_arr2 = my_arr * 2\n",
        "print(my_arr2)"
      ]
    },
    {
      "cell_type": "code",
      "execution_count": 28,
      "metadata": {
        "id": "fTt9zhekEcb7",
        "outputId": "faa3e156-9a17-42d6-c418-3c274f3af29d",
        "colab": {
          "base_uri": "https://localhost:8080/"
        }
      },
      "outputs": [
        {
          "output_type": "stream",
          "name": "stdout",
          "text": [
            "CPU times: user 525 ms, sys: 89.7 ms, total: 615 ms\n",
            "Wall time: 621 ms\n"
          ]
        }
      ],
      "source": [
        "%time for _ in range(10): my_list2 = [x * 2 for x in my_list]"
      ]
    },
    {
      "cell_type": "markdown",
      "metadata": {
        "id": "NvBvwjFZEcb8"
      },
      "source": [
        "# 5.Dimensions in Arrays"
      ]
    },
    {
      "cell_type": "markdown",
      "metadata": {
        "id": "0oO-rSmgEcb8"
      },
      "source": [
        "# 0-D Arrays"
      ]
    },
    {
      "cell_type": "markdown",
      "metadata": {
        "id": "g7-qiYBSEcb8"
      },
      "source": [
        "Create a 0-D array with value 42"
      ]
    },
    {
      "cell_type": "code",
      "execution_count": 29,
      "metadata": {
        "id": "m9ibQf3LEcb8",
        "outputId": "998d0897-79f9-4cd1-b045-2058e271bf3f",
        "colab": {
          "base_uri": "https://localhost:8080/"
        }
      },
      "outputs": [
        {
          "output_type": "stream",
          "name": "stdout",
          "text": [
            "42\n"
          ]
        }
      ],
      "source": [
        "arr4=np.array(42)\n",
        "print(arr4)"
      ]
    },
    {
      "cell_type": "markdown",
      "metadata": {
        "id": "AAhK75gREcb9"
      },
      "source": [
        "# 1-D Arrays"
      ]
    },
    {
      "cell_type": "raw",
      "metadata": {
        "id": "OrhCPG5tEcb9"
      },
      "source": [
        "An array that has 0-D arrays as its elements is called uni-dimensional or 1-D array."
      ]
    },
    {
      "cell_type": "code",
      "execution_count": 30,
      "metadata": {
        "id": "WoK-mc0gEcb-",
        "outputId": "2c07594c-6e0e-45a9-b6d4-79b8b9128148",
        "colab": {
          "base_uri": "https://localhost:8080/"
        }
      },
      "outputs": [
        {
          "output_type": "stream",
          "name": "stdout",
          "text": [
            "[ 1  2 34  5]\n"
          ]
        }
      ],
      "source": [
        "arr5=np.array([1,2,34,5])\n",
        "print(arr5)"
      ]
    },
    {
      "cell_type": "markdown",
      "metadata": {
        "id": "SL1eIHAGEcb-"
      },
      "source": [
        "# 2-D Arrays"
      ]
    },
    {
      "cell_type": "raw",
      "metadata": {
        "id": "EVRxRkaaEcb-"
      },
      "source": [
        "An array that has 1-D arrays as its elements is called a 2-D array.\n",
        "\n",
        "These are often used to represent matrix or 2nd order tensors."
      ]
    },
    {
      "cell_type": "raw",
      "metadata": {
        "id": "Y-8x8Q6qEcb-"
      },
      "source": [
        "NumPy has a whole sub module dedicated towards matrix operations called numpy.mat"
      ]
    },
    {
      "cell_type": "raw",
      "metadata": {
        "id": "n_6RlklMEcb_"
      },
      "source": [
        "Create a 2-D array containing two arrays with the values 1,2,3 and 4,5,6:"
      ]
    },
    {
      "cell_type": "code",
      "execution_count": 31,
      "metadata": {
        "id": "4QisumKxEcb_",
        "outputId": "456415fe-c908-40e8-db17-2882172c9cb4",
        "colab": {
          "base_uri": "https://localhost:8080/"
        }
      },
      "outputs": [
        {
          "output_type": "stream",
          "name": "stdout",
          "text": [
            "[[1 2 3]\n",
            " [4 5 6]]\n"
          ]
        }
      ],
      "source": [
        "arr6=np.array([[1,2,3],[4,5,6]])\n",
        "print(arr6)"
      ]
    },
    {
      "cell_type": "markdown",
      "metadata": {
        "id": "VWuiEhizEcb_"
      },
      "source": [
        "# 3-D arrays"
      ]
    },
    {
      "cell_type": "raw",
      "metadata": {
        "id": "MPRjldZiEcb_"
      },
      "source": [
        "An array that has 2-D arrays (matrices) as its elements is called 3-D array.\n",
        "\n",
        "These are often used to represent a 3rd order tensor."
      ]
    },
    {
      "cell_type": "raw",
      "metadata": {
        "id": "lLHK2q6fEcb_"
      },
      "source": [
        "Create a 3-D array with two 2-D arrays, both containing two arrays with the values 1,2,3 and 4,5,6:"
      ]
    },
    {
      "cell_type": "code",
      "execution_count": 32,
      "metadata": {
        "id": "yZct6sKCEcb_",
        "outputId": "4ba9de47-87fc-4be2-ba5c-bc738420d224",
        "colab": {
          "base_uri": "https://localhost:8080/"
        }
      },
      "outputs": [
        {
          "output_type": "stream",
          "name": "stdout",
          "text": [
            "[[[1 2 3]\n",
            "  [4 5 6]]\n",
            "\n",
            " [[1 1 1]\n",
            "  [2 3 2]]]\n"
          ]
        }
      ],
      "source": [
        "import numpy as np\n",
        "y=np.array([[[1,2,3],[4,5,6]],[[1,1,1],[2,3,2]]])\n",
        "print(y)"
      ]
    },
    {
      "cell_type": "markdown",
      "metadata": {
        "id": "qWZuHJNXEccA"
      },
      "source": [
        "# 5.Check Number of Dimensions?"
      ]
    },
    {
      "cell_type": "raw",
      "metadata": {
        "id": "OhbUltNQEccA"
      },
      "source": [
        "NumPy Arrays provides the ndim attribute that returns an integer that tells us how many dimensions the array have."
      ]
    },
    {
      "cell_type": "markdown",
      "metadata": {
        "id": "f4waTZqREccA"
      },
      "source": [
        "Check how many dimensions the arrays have:"
      ]
    },
    {
      "cell_type": "code",
      "execution_count": 33,
      "metadata": {
        "id": "SFV9WcIvEccA",
        "outputId": "bc0e8169-86de-43a0-d6f0-112db7b05237",
        "colab": {
          "base_uri": "https://localhost:8080/"
        }
      },
      "outputs": [
        {
          "output_type": "stream",
          "name": "stdout",
          "text": [
            "0\n",
            "1\n",
            "2\n",
            "3\n"
          ]
        }
      ],
      "source": [
        "import numpy as np\n",
        "\n",
        "a = np.array(42)\n",
        "b = np.array([1, 2, 3, 4, 5])\n",
        "c = np.array([[1, 2, 3], [4, 5, 6]])\n",
        "d = np.array([[[1, 2, 3], [4, 5, 6]], [[1, 2, 3], [4, 5, 6]]])\n",
        "\n",
        "print(a.ndim)\n",
        "print(b.ndim)\n",
        "print(c.ndim)\n",
        "print(d.ndim)"
      ]
    },
    {
      "cell_type": "code",
      "execution_count": 34,
      "metadata": {
        "id": "DIyfw1odEccA",
        "colab": {
          "base_uri": "https://localhost:8080/"
        },
        "outputId": "d85612e6-4fc5-4b99-cc84-2b0540f1cde1"
      },
      "outputs": [
        {
          "output_type": "execute_result",
          "data": {
            "text/plain": [
              "array([1, 2, 3, 4, 5, 6])"
            ]
          },
          "metadata": {},
          "execution_count": 34
        }
      ],
      "source": [
        "import numpy as np\n",
        "a = np.array([1,2,3,4,5,6])\n",
        "a = a.reshape(3,2)\n",
        "a\n",
        "a = a.reshape(2,-1) ## -1--> unknown dimension\n",
        "a\n",
        "a = a.ravel()\n",
        "a"
      ]
    },
    {
      "cell_type": "markdown",
      "metadata": {
        "id": "ED2DAV_8EccA"
      },
      "source": [
        "# 6.linspace"
      ]
    },
    {
      "cell_type": "code",
      "execution_count": 35,
      "metadata": {
        "id": "yb3nHraBEccA",
        "colab": {
          "base_uri": "https://localhost:8080/",
          "height": 130
        },
        "outputId": "7603ae3d-6acc-4604-da3e-c82f88d30e99"
      },
      "outputs": [
        {
          "output_type": "error",
          "ename": "SyntaxError",
          "evalue": "ignored",
          "traceback": [
            "\u001b[0;36m  File \u001b[0;32m\"<ipython-input-35-99abb798b67b>\"\u001b[0;36m, line \u001b[0;32m2\u001b[0m\n\u001b[0;31m    -> start  : [optional] start of interval range. By default start = 0\u001b[0m\n\u001b[0m     ^\u001b[0m\n\u001b[0;31mSyntaxError\u001b[0m\u001b[0;31m:\u001b[0m invalid syntax\n"
          ]
        }
      ],
      "source": [
        "#numpy.linspace(start, stop,num = 50, endpoint = True, retstep = False, dtype = None)\n",
        "-> start  : [optional] start of interval range. By default start = 0\n",
        "-> stop   : end of interval range\n",
        "-> restep : If True, return (samples, step). By deflut restep = False\n",
        "-> num    : [int, optional] No. of samples to generate\n",
        "-> dtype  : type of output array"
      ]
    },
    {
      "cell_type": "code",
      "execution_count": null,
      "metadata": {
        "id": "oZjlvMPhEccB"
      },
      "outputs": [],
      "source": [
        "import numpy as np\n",
        "# 50 values between 1 and 10:\n",
        "print(np.linspace(1,10,num = 50))"
      ]
    },
    {
      "cell_type": "code",
      "execution_count": null,
      "metadata": {
        "id": "mKb-Zp2SEccB"
      },
      "outputs": [],
      "source": [
        "# 7 values between 1 and 10:\n",
        "print(np.linspace(1,10,num = 7,endpoint = False))"
      ]
    },
    {
      "cell_type": "code",
      "execution_count": 36,
      "metadata": {
        "id": "e_WAyie_EccB",
        "outputId": "de245cbc-d83d-40f0-be3c-1ddd0c2064c4",
        "colab": {
          "base_uri": "https://localhost:8080/"
        }
      },
      "outputs": [
        {
          "output_type": "stream",
          "name": "stdout",
          "text": [
            "[[11 12 13 14 15]\n",
            " [21 22 23 24 25]\n",
            " [31 32 33 34 35]\n",
            " [41 42 43 44 45]\n",
            " [51 52 53 54 55]]\n"
          ]
        }
      ],
      "source": [
        "A = np.array([\n",
        "[11, 12, 13, 14, 15],\n",
        "[21, 22, 23, 24, 25],\n",
        "[31, 32, 33, 34, 35],\n",
        "[41, 42, 43, 44, 45],\n",
        "[51, 52, 53, 54, 55]])\n",
        "print(A)\n"
      ]
    },
    {
      "cell_type": "code",
      "execution_count": 37,
      "metadata": {
        "id": "TIOTpBawEccB",
        "outputId": "8a780691-a4c1-4f02-e7e0-e27666e9f2e8",
        "colab": {
          "base_uri": "https://localhost:8080/"
        }
      },
      "outputs": [
        {
          "output_type": "stream",
          "name": "stdout",
          "text": [
            "[[23 24 25]\n",
            " [33 34 35]]\n"
          ]
        }
      ],
      "source": [
        "print(A[1:3, 2:])  #(row, column)### 3 not included"
      ]
    },
    {
      "cell_type": "markdown",
      "metadata": {
        "id": "VMhcG8IfEccB"
      },
      "source": [
        "![image.png](attachment:image.png)"
      ]
    },
    {
      "cell_type": "code",
      "execution_count": null,
      "metadata": {
        "id": "u1nd_SMJEccB"
      },
      "outputs": [],
      "source": [
        "# print the above representation\n",
        "print(A[:3, 2:])"
      ]
    },
    {
      "cell_type": "code",
      "execution_count": null,
      "metadata": {
        "id": "L5UgJWMsEccC"
      },
      "outputs": [],
      "source": [
        "print(A[3:, :])"
      ]
    },
    {
      "cell_type": "markdown",
      "metadata": {
        "id": "VBxPiiD4EccC"
      },
      "source": [
        "![image.png](attachment:image.png)"
      ]
    },
    {
      "cell_type": "code",
      "execution_count": null,
      "metadata": {
        "id": "2ow2BCh-EccC"
      },
      "outputs": [],
      "source": [
        "print(A[:, :2])"
      ]
    },
    {
      "cell_type": "code",
      "execution_count": 38,
      "metadata": {
        "id": "A2Fr33O2EccC",
        "outputId": "4f54a300-e7c0-49a3-d193-3bfe3e5ed2a3",
        "colab": {
          "base_uri": "https://localhost:8080/"
        }
      },
      "outputs": [
        {
          "output_type": "stream",
          "name": "stdout",
          "text": [
            "[[13 14]\n",
            " [23 24]\n",
            " [33 34]\n",
            " [43 44]\n",
            " [53 54]]\n"
          ]
        }
      ],
      "source": [
        "print(A[:, 2:4])"
      ]
    },
    {
      "cell_type": "code",
      "execution_count": null,
      "metadata": {
        "id": "_mSRNQuMEccC"
      },
      "outputs": [],
      "source": [
        "y= np.arange(28)\n",
        "X = np.arange(28).reshape(4,7)\n",
        "print(X)\n",
        "print(y)"
      ]
    },
    {
      "cell_type": "code",
      "execution_count": null,
      "metadata": {
        "id": "UEAn1OSVEccC"
      },
      "outputs": [],
      "source": [
        "print(X[::2, ::3])"
      ]
    },
    {
      "cell_type": "markdown",
      "metadata": {
        "id": "wYFMG_1_EccC"
      },
      "source": [
        "![image.png](attachment:image.png)"
      ]
    },
    {
      "cell_type": "code",
      "execution_count": null,
      "metadata": {
        "id": "eyNKlEwgEccD"
      },
      "outputs": [],
      "source": [
        "print(A[:, :3:2])"
      ]
    },
    {
      "cell_type": "code",
      "execution_count": null,
      "metadata": {
        "id": "NlWerTzrEccD"
      },
      "outputs": [],
      "source": [
        "print(A[:, ::2])"
      ]
    },
    {
      "cell_type": "markdown",
      "metadata": {
        "id": "8JlmYYu3EccD"
      },
      "source": [
        "# Creating Arrays with Ones, Zeros and Empty"
      ]
    },
    {
      "cell_type": "code",
      "execution_count": null,
      "metadata": {
        "id": "MXaKecpBEccD"
      },
      "outputs": [],
      "source": [
        "# 2x3 array of all 1s\n",
        "z= np.ones((2,3))\n",
        "print(z)"
      ]
    },
    {
      "cell_type": "code",
      "execution_count": null,
      "metadata": {
        "id": "3Ehv2vJ1EccD"
      },
      "outputs": [],
      "source": [
        "z1= np.ones((2,3),dtype=int)\n",
        "print(z1)"
      ]
    },
    {
      "cell_type": "code",
      "execution_count": null,
      "metadata": {
        "id": "1mmQoUeVEccD"
      },
      "outputs": [],
      "source": [
        "z2= np.zeros((2,3),dtype=int)\n",
        "print(z2)"
      ]
    },
    {
      "cell_type": "code",
      "execution_count": null,
      "metadata": {
        "id": "wY-kcQ_WEccD"
      },
      "outputs": [],
      "source": [
        "z3= np.empty((2,3))\n",
        "print(z3)"
      ]
    },
    {
      "cell_type": "markdown",
      "metadata": {
        "id": "G8ayJ8VyEccD"
      },
      "source": [
        "# Copying Arrays"
      ]
    },
    {
      "cell_type": "code",
      "execution_count": null,
      "metadata": {
        "id": "OX-Se4lvEccE"
      },
      "outputs": [],
      "source": [
        "Y=z2"
      ]
    },
    {
      "cell_type": "code",
      "execution_count": null,
      "metadata": {
        "id": "7j2QXUJkEccE"
      },
      "outputs": [],
      "source": [
        "Y"
      ]
    },
    {
      "cell_type": "code",
      "execution_count": null,
      "metadata": {
        "id": "DoqELhpTEccE"
      },
      "outputs": [],
      "source": [
        "Z[1,1]=3\n"
      ]
    },
    {
      "cell_type": "code",
      "execution_count": null,
      "metadata": {
        "id": "hzPlLZN7EccE"
      },
      "outputs": [],
      "source": [
        "Z"
      ]
    },
    {
      "cell_type": "code",
      "execution_count": null,
      "metadata": {
        "id": "oU_tershEccE"
      },
      "outputs": [],
      "source": [
        "Y"
      ]
    },
    {
      "cell_type": "markdown",
      "metadata": {
        "id": "vvU13rqAEccE"
      },
      "source": [
        "# numpy.copy()"
      ]
    },
    {
      "cell_type": "code",
      "execution_count": null,
      "metadata": {
        "id": "0_4RgDlSEccE"
      },
      "outputs": [],
      "source": [
        "A = np.array([\n",
        "[11, 12, 13, 14, 15],\n",
        "[21, 22, 23, 24, 25],\n",
        "[31, 32, 33, 34, 35],\n",
        "[41, 42, 43, 44, 45],\n",
        "[51, 52, 53, 54, 55]])\n",
        "print(A)"
      ]
    },
    {
      "cell_type": "code",
      "execution_count": null,
      "metadata": {
        "id": "0izt9JGjEccE"
      },
      "outputs": [],
      "source": [
        "e=A\n",
        "print(e)"
      ]
    },
    {
      "cell_type": "code",
      "execution_count": null,
      "metadata": {
        "id": "iiDlf8R_EccF"
      },
      "outputs": [],
      "source": [
        "print(e)"
      ]
    },
    {
      "cell_type": "code",
      "execution_count": null,
      "metadata": {
        "id": "w4iy5E2mEccF"
      },
      "outputs": [],
      "source": [
        "w=A.copy()"
      ]
    },
    {
      "cell_type": "code",
      "execution_count": null,
      "metadata": {
        "id": "lTuCgmGKEccF"
      },
      "outputs": [],
      "source": [
        "print(w)"
      ]
    },
    {
      "cell_type": "code",
      "execution_count": null,
      "metadata": {
        "id": "opnyxlo3EccF"
      },
      "outputs": [],
      "source": [
        "A[0,0]=2"
      ]
    },
    {
      "cell_type": "code",
      "execution_count": null,
      "metadata": {
        "id": "wA1JSPRqEccF"
      },
      "outputs": [],
      "source": [
        "print(w)"
      ]
    },
    {
      "cell_type": "markdown",
      "metadata": {
        "id": "6tm-cPCQEccF"
      },
      "source": [
        "# The identity Matrix"
      ]
    },
    {
      "cell_type": "code",
      "execution_count": null,
      "metadata": {
        "id": "I_D9vL74EccF"
      },
      "outputs": [],
      "source": [
        "import numpy as np\n",
        "np.identity(4)"
      ]
    },
    {
      "cell_type": "code",
      "execution_count": null,
      "metadata": {
        "id": "lJD9ypB7EccF"
      },
      "outputs": [],
      "source": [
        "np.identity(4, dtype=int)"
      ]
    },
    {
      "cell_type": "code",
      "execution_count": null,
      "metadata": {
        "id": "cyGxH_4mEccF"
      },
      "outputs": [],
      "source": [
        "import numpy\n",
        "numpy.eye(3, dtype=int)"
      ]
    },
    {
      "cell_type": "code",
      "execution_count": null,
      "metadata": {
        "id": "EfMTTae6EccG"
      },
      "outputs": [],
      "source": [
        "np.eye(3,4,-1, dtype=int)"
      ]
    },
    {
      "cell_type": "markdown",
      "metadata": {
        "id": "-LLwjJaREccG"
      },
      "source": [
        "# Graphical Representation of the Values"
      ]
    },
    {
      "cell_type": "code",
      "execution_count": null,
      "metadata": {
        "id": "W281H3PjEccG"
      },
      "outputs": [],
      "source": [
        "cvalues = [20.1, 20.8, 21.9, 22.5, 22.7, 22.3, 21.8, 21.2, 20.9, 20.1]"
      ]
    },
    {
      "cell_type": "code",
      "execution_count": null,
      "metadata": {
        "id": "6DF-H2h8EccG"
      },
      "outputs": [],
      "source": [
        "C = np.array(cvalues)\n",
        "print(C)"
      ]
    },
    {
      "cell_type": "code",
      "execution_count": null,
      "metadata": {
        "id": "AXXW9XuGEccG"
      },
      "outputs": [],
      "source": [
        "import matplotlib.pyplot as ks\n",
        "ks.plot(C)"
      ]
    },
    {
      "cell_type": "code",
      "execution_count": null,
      "metadata": {
        "id": "423bhe1TEccG"
      },
      "outputs": [],
      "source": [
        "# diag` extracts a diagonal or constructs a diagonal array.\n",
        "d=([4,5,6])\n",
        "np.diag(d)"
      ]
    },
    {
      "cell_type": "code",
      "execution_count": null,
      "metadata": {
        "id": "rhapVP90EccG"
      },
      "outputs": [],
      "source": [
        "n = np.arange(0, 30, 2) # start at 0 count up by 2, stop before 30\n",
        "print(n)\n",
        "n = n.reshape(5, 3) # reshape array to be 3x5\n",
        "print(n)"
      ]
    },
    {
      "cell_type": "code",
      "execution_count": null,
      "metadata": {
        "id": "xt54Xx2JEccG"
      },
      "outputs": [],
      "source": [
        "# Create an array using repeating list\n",
        "np.array([1, 2, 3] * 3)"
      ]
    },
    {
      "cell_type": "code",
      "execution_count": null,
      "metadata": {
        "id": "jucKv_HvEccH"
      },
      "outputs": [],
      "source": [
        "np.tile([1, 2, 3], 3)"
      ]
    },
    {
      "cell_type": "code",
      "execution_count": null,
      "metadata": {
        "id": "jmFIosDQEccH"
      },
      "outputs": [],
      "source": [
        "np.repeat([1, 2, 3], 3)"
      ]
    },
    {
      "cell_type": "markdown",
      "metadata": {
        "id": "kde9l8XqEccH"
      },
      "source": [
        "# Operations\n",
        "Use +, -, *, / and ** to perform element wise addition, subtraction, multiplication, division and power."
      ]
    },
    {
      "cell_type": "code",
      "execution_count": null,
      "metadata": {
        "id": "z5NHIpoDEccH"
      },
      "outputs": [],
      "source": [
        "mylist = [1, 2, 3]\n",
        "x = np.array(mylist)\n",
        "print(x)\n",
        "y = np.array([4, 5, 6])\n",
        "print(y)"
      ]
    },
    {
      "cell_type": "code",
      "execution_count": null,
      "metadata": {
        "id": "cKFzzGGYEccH"
      },
      "outputs": [],
      "source": [
        "print(x + y) # elementwise addition     [1 2 3] + [4 5 6] = [5  7  9]\n",
        "print(x - y) # elementwise subtraction  [1 2 3] - [4 5 6] = [-3 -3 -3]\n",
        "x1 = np.array([[1,2,3],[3,4,5]])\n",
        "y1 = np.array([[1,1,1], [2,2,2]])\n",
        "print(x1+y1)"
      ]
    },
    {
      "cell_type": "code",
      "execution_count": null,
      "metadata": {
        "id": "lQhfotgQEccH"
      },
      "outputs": [],
      "source": [
        "print(x * y) # elementwise multiplication  [1 2 3] * [4 5 6] = [4  10  18]\n",
        "print(x / y) # elementwise divison    [1 2 3] / [4 5 6] = [0.25  0.4  0.5]"
      ]
    },
    {
      "cell_type": "code",
      "execution_count": null,
      "metadata": {
        "id": "-dmRkNENEccH"
      },
      "outputs": [],
      "source": [
        "print(x**2) # elementwise power  [1 2 3] ^2 =  [1 4 9]"
      ]
    },
    {
      "cell_type": "markdown",
      "metadata": {
        "id": "Oz3bLvgGEccI"
      },
      "source": [
        "<br>\n",
        "**Dot Product:**  \n",
        "\n",
        "$ \\begin{bmatrix}x_1 \\ x_2 \\ x_3\\end{bmatrix}\n",
        "\\cdot\n",
        "\\begin{bmatrix}y_1 \\\\ y_2 \\\\ y_3\\end{bmatrix}\n",
        "= x_1 y_1 + x_2 y_2 + x_3 y_3$"
      ]
    },
    {
      "cell_type": "code",
      "execution_count": null,
      "metadata": {
        "id": "k9r2rsWXEccI"
      },
      "outputs": [],
      "source": [
        "x.dot(y) # dot product  1*4 + 2*5 + 3*6"
      ]
    },
    {
      "cell_type": "code",
      "execution_count": null,
      "metadata": {
        "id": "MijbdggREccI"
      },
      "outputs": [],
      "source": [
        "x1=np.array([[1,2,3],[4,5,6],[7,8,9]])\n",
        "y1=np.array([[1,1,1],[2,2,2],[3,3,3]])\n",
        "\n",
        "np.dot(x1,y1)"
      ]
    },
    {
      "cell_type": "code",
      "execution_count": null,
      "metadata": {
        "id": "sS1LeKgJEccI"
      },
      "outputs": [],
      "source": [
        "a= np.array([[1,2],[4,5],[7,8]])\n",
        "b=np.array([[1,1,1],[1,1,1]])\n",
        "print(a)\n",
        "print(b)\n",
        "print(a.dot(b))"
      ]
    },
    {
      "cell_type": "code",
      "execution_count": null,
      "metadata": {
        "id": "6hgH7a0yEccI"
      },
      "outputs": [],
      "source": [
        "# Use `.T` to get the transpose.\n",
        "z = np.array([y, y**2])\n",
        "print(z)\n",
        "print(z.T)\n",
        "z.transpose()"
      ]
    },
    {
      "cell_type": "code",
      "execution_count": null,
      "metadata": {
        "id": "H6DV8X1SEccI"
      },
      "outputs": [],
      "source": [
        "# Use `.dtype` to see the data type of the elements in the array.\n",
        "z.dtype"
      ]
    },
    {
      "cell_type": "code",
      "execution_count": null,
      "metadata": {
        "id": "94GI02GqEccI"
      },
      "outputs": [],
      "source": [
        "a = np.array([-4, -2, 1, 3, 5,7,9,11,-4,1,4,1])"
      ]
    },
    {
      "cell_type": "code",
      "execution_count": null,
      "metadata": {
        "id": "T8SQR_DPEccI"
      },
      "outputs": [],
      "source": [
        "a.sum()"
      ]
    },
    {
      "cell_type": "code",
      "execution_count": null,
      "metadata": {
        "id": "MwG09JCQEccJ"
      },
      "outputs": [],
      "source": [
        "print(a.max())\n",
        "print(a.argmax())    # index of max"
      ]
    },
    {
      "cell_type": "code",
      "execution_count": null,
      "metadata": {
        "id": "1PL5FID5EccJ"
      },
      "outputs": [],
      "source": [
        "print(a.min())\n",
        "print(a.argmin())           # index of min"
      ]
    },
    {
      "cell_type": "code",
      "execution_count": null,
      "metadata": {
        "id": "Ew0yEUy5EccJ"
      },
      "outputs": [],
      "source": [
        "a.mean()"
      ]
    },
    {
      "cell_type": "code",
      "execution_count": null,
      "metadata": {
        "id": "zNq88ZDoEccJ"
      },
      "outputs": [],
      "source": [
        "a.std()"
      ]
    },
    {
      "cell_type": "code",
      "execution_count": null,
      "metadata": {
        "id": "4NDHf3btEccN"
      },
      "outputs": [],
      "source": [
        "a.var()"
      ]
    },
    {
      "cell_type": "code",
      "execution_count": null,
      "metadata": {
        "id": "xeFrOpntEccN"
      },
      "outputs": [],
      "source": [
        "from scipy import stats\n",
        "mode = stats. mode(a)\n",
        "mode"
      ]
    },
    {
      "cell_type": "code",
      "execution_count": null,
      "metadata": {
        "id": "N_3Gil6QEccN"
      },
      "outputs": [],
      "source": [
        "from scipy.stats import skew \n",
        "import numpy as np  \n",
        "  \n",
        "# random values based on a normal distribution \n",
        "x = np.random.normal(0, 2, 10000) \n",
        "y = np.array([1, 2, 3, 4, 1000])\n",
        "z = np.array([1, 899, 900, 910, 1000])\n",
        "w = np.array([1, 2, 3, 4,5])              # uniform distribution\n",
        "print (\"X : \\n\", x) \n",
        "  \n",
        "print('\\nSkewness for data : ', skew(x))\n",
        "print('\\nSkewness for data : ', skew(y))\n",
        "print('\\nSkewness for data : ', skew(z))\n",
        "print('\\nSkewness for data : ', skew(w))"
      ]
    },
    {
      "cell_type": "code",
      "execution_count": null,
      "metadata": {
        "id": "Cd_xi0xfEccO"
      },
      "outputs": [],
      "source": [
        "import numpy\n",
        "my_array = []\n",
        "a = int(input(\"Size of array:\"))\n",
        "for i in range(a):\n",
        "    my_array.append(int(input(\"Element:\")))\n",
        "my_array = numpy.array(my_array)\n",
        "print(my_array)"
      ]
    },
    {
      "cell_type": "code",
      "execution_count": null,
      "metadata": {
        "id": "l4B677fEEccO"
      },
      "outputs": [],
      "source": [
        "#Take matrix size as input\n",
        "n=int(input(\"Enter the matrix size\"))\n",
        "\n",
        "import numpy as np\n",
        "\n",
        "#initialise nxn matrix with zeroes\n",
        "mat=np.zeros((n,n))\n",
        "print(mat)\n",
        "\n",
        "#input each row at a time,with each element separated by a space\n",
        "for i in range(n):\n",
        "   mat[i]=input().split(\" \")\n",
        "print(mat)"
      ]
    },
    {
      "cell_type": "code",
      "execution_count": null,
      "metadata": {
        "id": "Ngh2Mg5YEccO"
      },
      "outputs": [],
      "source": [
        "Randomly generate the marks of the 80 students in the range of 40 to 95. Write a NumPy \n",
        "program to compute the 70 percentile for all elements in a given array. (Hint: use \n",
        "np.random.randint (start, stop, no_of_items) for list generation) (Hint: Use np.percentile)"
      ]
    },
    {
      "cell_type": "code",
      "execution_count": null,
      "metadata": {
        "id": "rjg44q6BEccO"
      },
      "outputs": [],
      "source": [
        "import numpy as np\n",
        "arr=np.random.randint (40, 96, 80)\n",
        "print(arr)"
      ]
    },
    {
      "cell_type": "code",
      "execution_count": null,
      "metadata": {
        "id": "1yEf9-wqEccO"
      },
      "outputs": [],
      "source": []
    }
  ],
  "metadata": {
    "kernelspec": {
      "display_name": "Python 3",
      "language": "python",
      "name": "python3"
    },
    "language_info": {
      "codemirror_mode": {
        "name": "ipython",
        "version": 3
      },
      "file_extension": ".py",
      "mimetype": "text/x-python",
      "name": "python",
      "nbconvert_exporter": "python",
      "pygments_lexer": "ipython3",
      "version": "3.7.4"
    },
    "colab": {
      "provenance": [],
      "include_colab_link": true
    }
  },
  "nbformat": 4,
  "nbformat_minor": 0
}